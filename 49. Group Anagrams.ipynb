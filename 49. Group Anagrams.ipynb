{
 "cells": [
  {
   "cell_type": "code",
   "execution_count": 31,
   "metadata": {},
   "outputs": [],
   "source": [
    "def groupAnagrams(strs):\n",
    "    strs_length = len(strs)\n",
    "   \n",
    "    output = []\n",
    "    flag = []\n",
    "    \n",
    "    for i in strs:\n",
    "        flag.append(0)\n",
    "        \n",
    "    for i in range(strs_length):\n",
    "        if flag[i]!=0:\n",
    "            continue\n",
    "            \n",
    "        temp_list = []\n",
    "        temp_list.append(strs[i])\n",
    "        flag[i]=1\n",
    "        \n",
    "        characters = set(strs[i])\n",
    "        \n",
    "        for j in range(i+1,strs_length):\n",
    "            if len(strs[i])==len(strs[j]):\n",
    "                indicator = 0\n",
    "                for chars in characters:\n",
    "                    if strs[i].count(chars)!= strs[j].count(chars):\n",
    "                        indicator = 1\n",
    "                    else:\n",
    "                        continue\n",
    "                if indicator==0:\n",
    "                    temp_list.append(strs[j])\n",
    "                    flag[j]=1  \n",
    "            else:\n",
    "                continue\n",
    "        output.append(temp_list)\n",
    "    return (output)"
   ]
  },
  {
   "cell_type": "code",
   "execution_count": 32,
   "metadata": {},
   "outputs": [
    {
     "name": "stdout",
     "output_type": "stream",
     "text": [
      "[['abc', 'cab', 'bca'], ['dsa', 'asd', 'sad']]\n"
     ]
    }
   ],
   "source": [
    "strs = [\"abc\", \"cab\", \"bca\", \"dsa\", \"asd\", \"sad\"]\n",
    "print(groupAnagrams(strs))"
   ]
  },
  {
   "cell_type": "code",
   "execution_count": 33,
   "metadata": {},
   "outputs": [],
   "source": []
  },
  {
   "cell_type": "code",
   "execution_count": 20,
   "metadata": {},
   "outputs": [],
   "source": [
    "def groupAnagrams(strs):\n",
    "    hashmap = {}\n",
    "    for word in strs:\n",
    "        temp = \"\".join(sorted(word))\n",
    "        if temp not in hashmap:\n",
    "            hashmap[temp]=[word]\n",
    "        else:\n",
    "            hashmap[temp].append(word) #Only works if key is of type list, tuple or a set\n",
    "        print(hashmap)\n",
    "    print(hashmap)\n",
    "    "
   ]
  },
  {
   "cell_type": "code",
   "execution_count": 21,
   "metadata": {},
   "outputs": [
    {
     "name": "stdout",
     "output_type": "stream",
     "text": [
      "{'abc': ['abc']}\n",
      "{'abc': ['abc', 'cab']}\n",
      "{'abc': ['abc', 'cab', 'bca']}\n",
      "{'abc': ['abc', 'cab', 'bca'], 'ads': ['dsa']}\n",
      "{'abc': ['abc', 'cab', 'bca'], 'ads': ['dsa', 'asd']}\n",
      "{'abc': ['abc', 'cab', 'bca'], 'ads': ['dsa', 'asd', 'sad']}\n",
      "{'abc': ['abc', 'cab', 'bca'], 'ads': ['dsa', 'asd', 'sad']}\n",
      "None\n"
     ]
    }
   ],
   "source": [
    "strs = [\"abc\", \"cab\", \"bca\", \"dsa\", \"asd\", \"sad\"]\n",
    "print(groupAnagrams(strs))"
   ]
  },
  {
   "cell_type": "code",
   "execution_count": null,
   "metadata": {},
   "outputs": [],
   "source": []
  }
 ],
 "metadata": {
  "kernelspec": {
   "display_name": "Python 3",
   "language": "python",
   "name": "python3"
  },
  "language_info": {
   "codemirror_mode": {
    "name": "ipython",
    "version": 3
   },
   "file_extension": ".py",
   "mimetype": "text/x-python",
   "name": "python",
   "nbconvert_exporter": "python",
   "pygments_lexer": "ipython3",
   "version": "3.8.5"
  }
 },
 "nbformat": 4,
 "nbformat_minor": 4
}
