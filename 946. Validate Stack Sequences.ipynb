{
 "cells": [
  {
   "cell_type": "code",
   "execution_count": 63,
   "metadata": {},
   "outputs": [],
   "source": [
    "def validateStackSequences(pushed, popped):\n",
    "        new = list()\n",
    "        i=0\n",
    "        length = len(pushed)\n",
    "        while popped:\n",
    "            print(f'This is current pushed {pushed}')\n",
    "            print(f'This is current popped {popped}')\n",
    "            \n",
    "            if i < length:\n",
    "                new.append(pushed[i])\n",
    "            print(f'This is the stack {new}')\n",
    "            print(f'This is first value in popped {popped[0]}')\n",
    "            while new[-1]==popped[0]:\n",
    "                print('Yo2')\n",
    "                new.pop()\n",
    "                popped = popped[1:]\n",
    "                if len(new)==0:\n",
    "                    break\n",
    "\n",
    "            if i>=length:\n",
    "                break\n",
    "#             pushed = pushed[1:]\n",
    "            i+=1\n",
    "        \n",
    "        if len(new)==0 and len(popped)==0:\n",
    "            return True\n",
    "        return False"
   ]
  },
  {
   "cell_type": "code",
   "execution_count": 64,
   "metadata": {
    "scrolled": false
   },
   "outputs": [
    {
     "name": "stdout",
     "output_type": "stream",
     "text": [
      "This is current pushed [1, 2, 3, 4, 5]\n",
      "This is current popped [4, 3, 5, 1, 2]\n",
      "This is the stack [1]\n",
      "This is first value in popped 4\n",
      "This is current pushed [1, 2, 3, 4, 5]\n",
      "This is current popped [4, 3, 5, 1, 2]\n",
      "This is the stack [1, 2]\n",
      "This is first value in popped 4\n",
      "This is current pushed [1, 2, 3, 4, 5]\n",
      "This is current popped [4, 3, 5, 1, 2]\n",
      "This is the stack [1, 2, 3]\n",
      "This is first value in popped 4\n",
      "This is current pushed [1, 2, 3, 4, 5]\n",
      "This is current popped [4, 3, 5, 1, 2]\n",
      "This is the stack [1, 2, 3, 4]\n",
      "This is first value in popped 4\n",
      "Yo2\n",
      "Yo2\n",
      "This is current pushed [1, 2, 3, 4, 5]\n",
      "This is current popped [5, 1, 2]\n",
      "This is the stack [1, 2, 5]\n",
      "This is first value in popped 5\n",
      "Yo2\n",
      "This is current pushed [1, 2, 3, 4, 5]\n",
      "This is current popped [1, 2]\n",
      "This is the stack [1, 2]\n",
      "This is first value in popped 1\n",
      "False\n"
     ]
    }
   ],
   "source": [
    "pushed = [1,2,3,4,5]\n",
    "popped = [4,3,5,1,2]\n",
    "print(validateStackSequences(pushed, popped))"
   ]
  },
  {
   "cell_type": "code",
   "execution_count": null,
   "metadata": {},
   "outputs": [],
   "source": []
  }
 ],
 "metadata": {
  "kernelspec": {
   "display_name": "Python 3",
   "language": "python",
   "name": "python3"
  },
  "language_info": {
   "codemirror_mode": {
    "name": "ipython",
    "version": 3
   },
   "file_extension": ".py",
   "mimetype": "text/x-python",
   "name": "python",
   "nbconvert_exporter": "python",
   "pygments_lexer": "ipython3",
   "version": "3.8.5"
  }
 },
 "nbformat": 4,
 "nbformat_minor": 4
}
