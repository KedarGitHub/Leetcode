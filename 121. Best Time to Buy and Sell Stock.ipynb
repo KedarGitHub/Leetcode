{
 "cells": [
  {
   "cell_type": "markdown",
   "metadata": {},
   "source": [
    "**O(n^2) time complexity**"
   ]
  },
  {
   "cell_type": "code",
   "execution_count": 13,
   "metadata": {},
   "outputs": [],
   "source": [
    "def maxProfit(prices):\n",
    "        max_profit = 0\n",
    "        profit = 0\n",
    "        length = len(prices)\n",
    "        for i, val in enumerate(prices):\n",
    "            if i == (length-1):\n",
    "                break\n",
    "            max_value = max(prices[i+1:])\n",
    "            if val< max_value:\n",
    "                profit = max_value - val\n",
    "            if max_profit < profit:\n",
    "                max_profit = profit\n",
    "        return max_profit"
   ]
  },
  {
   "cell_type": "code",
   "execution_count": 14,
   "metadata": {},
   "outputs": [
    {
     "name": "stdout",
     "output_type": "stream",
     "text": [
      "5\n"
     ]
    }
   ],
   "source": [
    "prices = [7,1,5,3,6,4]\n",
    "print(maxProfit(prices))"
   ]
  },
  {
   "cell_type": "code",
   "execution_count": 8,
   "metadata": {},
   "outputs": [
    {
     "name": "stdout",
     "output_type": "stream",
     "text": [
      "6\n"
     ]
    }
   ],
   "source": [
    "prices = [7,1,5,3,6,4]\n",
    "print(max(prices[2:]))"
   ]
  },
  {
   "cell_type": "markdown",
   "metadata": {},
   "source": [
    "**O(n) time complexity** : Each time we find a value lesser than itself, we start from lesser value"
   ]
  },
  {
   "cell_type": "code",
   "execution_count": 30,
   "metadata": {},
   "outputs": [],
   "source": [
    "def maxProfit1(prices):\n",
    "        left, right =0,1\n",
    "        max_profit=0 \n",
    "        while right <len(prices):\n",
    "            if prices[left]<prices[right]:\n",
    "                profit = prices[right]-prices[left]\n",
    "                if max_profit < profit:\n",
    "                    max_profit = profit                \n",
    "            else:\n",
    "                left= right\n",
    "            right+=1\n",
    "        return max_profit"
   ]
  },
  {
   "cell_type": "code",
   "execution_count": 31,
   "metadata": {},
   "outputs": [
    {
     "name": "stdout",
     "output_type": "stream",
     "text": [
      "18\n"
     ]
    }
   ],
   "source": [
    "prices = [7,4 ,5, 18, 2, 19, 0,  6,4,18]\n",
    "print(maxProfit1(prices))"
   ]
  },
  {
   "cell_type": "code",
   "execution_count": null,
   "metadata": {},
   "outputs": [],
   "source": []
  }
 ],
 "metadata": {
  "kernelspec": {
   "display_name": "Python 3",
   "language": "python",
   "name": "python3"
  },
  "language_info": {
   "codemirror_mode": {
    "name": "ipython",
    "version": 3
   },
   "file_extension": ".py",
   "mimetype": "text/x-python",
   "name": "python",
   "nbconvert_exporter": "python",
   "pygments_lexer": "ipython3",
   "version": "3.8.5"
  }
 },
 "nbformat": 4,
 "nbformat_minor": 4
}
