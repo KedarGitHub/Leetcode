{
 "cells": [
  {
   "cell_type": "code",
   "execution_count": 91,
   "metadata": {},
   "outputs": [
    {
     "name": "stdout",
     "output_type": "stream",
     "text": [
      "False\n"
     ]
    }
   ],
   "source": [
    "def palindrome(x):\n",
    "        pal_list=list()\n",
    "        try:\n",
    "            if(x<0):\n",
    "                return False\n",
    "            elif(x//10)==0:\n",
    "                return True\n",
    "            else:\n",
    "                while(x>0):\n",
    "                    pal_list.append(x%10)\n",
    "                    x=x//10\n",
    "            flag=0\n",
    "            iterate= (len(pal_list)//2)+1\n",
    "            j=len(pal_list)-1\n",
    "            for i in range(iterate):\n",
    "                if(pal_list[i]!=pal_list[j]):\n",
    "                    flag=1\n",
    "                j-=1\n",
    "            if(flag==0):\n",
    "                return True\n",
    "            else:\n",
    "                return False\n",
    "        except TypeError as e:\n",
    "            print(f'This is a typeError {e}')\n",
    "value= 42\n",
    "print(palindrome(value))"
   ]
  },
  {
   "cell_type": "code",
   "execution_count": 115,
   "metadata": {},
   "outputs": [
    {
     "name": "stdout",
     "output_type": "stream",
     "text": [
      "I\n",
      "I\n",
      "I\n"
     ]
    },
    {
     "data": {
      "text/plain": [
       "1"
      ]
     },
     "execution_count": 115,
     "metadata": {},
     "output_type": "execute_result"
    }
   ],
   "source": [
    "def romanToInt(s):\n",
    "        sum=0;\n",
    "        for i in range(len(s)):\n",
    "                print(s[i])\n",
    "                if (i+1)!= len(s):\n",
    "                    if(s[i]=='I' and s[i+1]==('V')):\n",
    "                      sum=sum+4 \n",
    "                      i=i+1\n",
    "                    elif(s[i]=='I' and s[i+1]=='X'):\n",
    "                      sum=sum+9 \n",
    "                      i=i+1  \n",
    "                    elif(s[i]=='X' and s[i+1]=='L'):\n",
    "                      sum=sum+40 \n",
    "                      i=i+1\n",
    "                    elif(s[i]=='X' and s[i+1]=='C'):\n",
    "                      sum=sum+90 \n",
    "                      i=i+1\n",
    "                    elif(s[i]=='C' and s[i+1]=='D'):\n",
    "                      sum=sum+400 \n",
    "                      i=i+1\n",
    "                    elif(s[i]=='C' and s[i+1]=='M'):\n",
    "                      sum=sum+900 \n",
    "                      i=i+1\n",
    "                elif(s[i]=='I'):\n",
    "                   sum=sum+1\n",
    "                elif(s[i]=='V'):\n",
    "                  sum=sum+5\n",
    "                elif(s[i]=='X'):\n",
    "                  sum=sum+10\n",
    "                elif(s[i]=='L'):\n",
    "                  sum=sum+50\n",
    "                elif(s[i]=='C'):\n",
    "                  sum=sum+100\n",
    "                elif(s[i]=='D'):\n",
    "                  sum=sum+500  \n",
    "                elif(s[i]=='M'):\n",
    "                  sum=sum+1000  \n",
    "        return(sum);   \n",
    "romanToInt('III')"
   ]
  },
  {
   "cell_type": "code",
   "execution_count": 149,
   "metadata": {},
   "outputs": [
    {
     "name": "stdout",
     "output_type": "stream",
     "text": [
      "\n"
     ]
    }
   ],
   "source": [
    "def longestCommonPrefix(value):\n",
    "    str =''\n",
    "    for i in range(len(min(value, key=len))):\n",
    "        checker= value[0][i]\n",
    "        count=1\n",
    "        for j in range(len(value)):\n",
    "            if j>0:\n",
    "                if value[j][i]==checker:\n",
    "                    count +=1\n",
    "                    continue\n",
    "                else:\n",
    "                    break\n",
    "        if count==len(value):\n",
    "            str = str + checker\n",
    "        elif (count!= len(value) and i!=0) or (count!= len(value) and i==0):\n",
    "            break\n",
    "    return (str)   \n",
    "strs = [\"babb\",\"caa\"]\n",
    "print(longestCommonPrefix(strs))"
   ]
  },
  {
   "cell_type": "code",
   "execution_count": 175,
   "metadata": {},
   "outputs": [
    {
     "name": "stdout",
     "output_type": "stream",
     "text": [
      "Yolo\n"
     ]
    },
    {
     "data": {
      "text/plain": [
       "False"
      ]
     },
     "execution_count": 175,
     "metadata": {},
     "output_type": "execute_result"
    }
   ],
   "source": [
    "def isValidParentheses2(s):\n",
    "    if(len(s)%2!=0):\n",
    "        print('if')\n",
    "        return False\n",
    "\n",
    "    else:\n",
    "\n",
    "        if (s[0]=='(' and s[len(s)-1]==')') or (s[0]=='{' and s[len(s)-1]=='}') or (s[0]=='[' and s[len(s)-1]==']'):\n",
    "            print('Yolo')\n",
    "            j = len(s)-1\n",
    "            for i in range(len(s)//2):\n",
    "                if s[i]=='(':\n",
    "                        if s[j]!=')':\n",
    "                            return False\n",
    "                elif s[i]=='[':\n",
    "                        if s[j]!=']':\n",
    "                            return False\n",
    "                elif s[i]=='{':\n",
    "                        if s[j]!='}':\n",
    "                            return False\n",
    "                elif s[i]==')' or s[i]=='}' or s[i]==']':\n",
    "                        return False\n",
    "                j-=1\n",
    "            return True\n",
    "        else:\n",
    "            for i in range(len(s)):        \n",
    "                if i%2==0:\n",
    "                    if s[i]=='(':\n",
    "                        if s[i+1]!=')':\n",
    "                            return False\n",
    "                    elif s[i]=='[':\n",
    "                        if s[i+1]!=']':\n",
    "                            return False\n",
    "                    elif s[i]=='{':\n",
    "                        if s[i+1]!='}':\n",
    "                            return False\n",
    "                    elif s[i]==')' or s[i]=='}' or s[i]==']':\n",
    "                        return False\n",
    "            return True\n",
    "#s = \"()[]{}{}\"\n",
    "#s=\"{[]}\" #True\n",
    "#s=\"){\" #False\n",
    "#s=\"(}{)\"\n",
    "s=\"(([]){})\"\n",
    "isValidParentheses2(s)"
   ]
  },
  {
   "cell_type": "code",
   "execution_count": 178,
   "metadata": {},
   "outputs": [
    {
     "data": {
      "text/plain": [
       "False"
      ]
     },
     "execution_count": 178,
     "metadata": {},
     "output_type": "execute_result"
    }
   ],
   "source": [
    "def isValidParentheses(s):\n",
    "    if(len(s)%2!=0):\n",
    "        print('if')\n",
    "        return False\n",
    "\n",
    "    else:\n",
    "\n",
    "        for i in range(len(s)):\n",
    "            count=0\n",
    "            if s[i]=='(':\n",
    "                j=i+1\n",
    "                while(j<len(s) and s[j]!=')'):\n",
    "                    count+=1\n",
    "                    j+=1\n",
    "                if count%2!=0:\n",
    "                    return False\n",
    "            elif s[i]=='{':\n",
    "                j=i\n",
    "                while(j<len(s) and s[j]!='}'):\n",
    "                    count+=1\n",
    "                    j+=1\n",
    "                if count%2!=0:\n",
    "                    return False\n",
    "            elif s[i]=='[':\n",
    "                j=i\n",
    "                while(j<len(s) and s[j]!=']'):\n",
    "                    count+=1\n",
    "                    j+=1\n",
    "                if count%2!=0:\n",
    "                    return False\n",
    "        return True\n",
    "#s = \"()[]{}{}\"\n",
    "#s=\"{[]}\" #True\n",
    "#s=\"){\" #False\n",
    "#s=\"(}{)\"\n",
    "s=\"(([]){})\"\n",
    "isValidParentheses(s)"
   ]
  },
  {
   "cell_type": "code",
   "execution_count": null,
   "metadata": {},
   "outputs": [],
   "source": []
  }
 ],
 "metadata": {
  "kernelspec": {
   "display_name": "Python 3",
   "language": "python",
   "name": "python3"
  },
  "language_info": {
   "codemirror_mode": {
    "name": "ipython",
    "version": 3
   },
   "file_extension": ".py",
   "mimetype": "text/x-python",
   "name": "python",
   "nbconvert_exporter": "python",
   "pygments_lexer": "ipython3",
   "version": "3.8.5"
  }
 },
 "nbformat": 4,
 "nbformat_minor": 4
}
