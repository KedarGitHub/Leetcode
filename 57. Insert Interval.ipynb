{
 "cells": [
  {
   "cell_type": "code",
   "execution_count": 1,
   "metadata": {},
   "outputs": [],
   "source": [
    "def insert(intervals, newInterval):\n",
    "    intervals.append(newInterval)\n",
    "    intervals.sort()\n",
    "    print(intervals)\n",
    "    \n",
    "    i = 0\n",
    "    count=0\n",
    "    value = []\n",
    "    result=[]\n",
    "    length = len(intervals)\n",
    "    \n",
    "    while i < length:\n",
    "        print(f'This is i :{i}')\n",
    "        \n",
    "        if len(value)>0 and value[1]< intervals[i][0]:\n",
    "            print(f'This is value[0] is {value[0]}')\n",
    "            print(f'This is value[1] is {value[1]}')\n",
    "            print(f'This is intervals[i][0] is {intervals[i][0]}')\n",
    "            print(f'This is intervals[i][1] is {intervals[i][1]}')\n",
    "            result.append(value)\n",
    "            value=[]\n",
    "        elif len(value)>0 and value[1] >= intervals[i][0]:\n",
    "            print(f'This is value[0] is {value[0]}')\n",
    "            print(f'This is value[1] is {value[1]}')\n",
    "            print(f'This is intervals[i][0] is {intervals[i][0]}')\n",
    "            print(f'This is intervals[i][1] is {intervals[i][1]}')\n",
    "            value = [value[0], max(value[1], intervals[i][1])]\n",
    "            i=i+1\n",
    "            continue    \n",
    "        \n",
    "        if i==length-1:\n",
    "            result.append(intervals[i])\n",
    "            break\n",
    "        \n",
    "        if intervals[i][1]< intervals[i+1][0]:\n",
    "            print(f'This is intervals[i][0] is {intervals[i][0]}')\n",
    "            print(f'This is intervals[i][1] is {intervals[i][1]}')\n",
    "            print(f'This is intervals[i+1][0] is {intervals[i+1][0]}')\n",
    "            print(f'This is intervals[i+1][1] is {intervals[i+1][1]}')\n",
    "            result.append(intervals[i])\n",
    "            i+=1\n",
    "            \n",
    "        elif intervals[i][1]>=intervals[i+1][0]:\n",
    "            print(f'This is intervals[i][0] is {intervals[i][0]}')\n",
    "            print(f'This is intervals[i][1] is {intervals[i][1]}')\n",
    "            print(f'This is intervals[i+1][0] is {intervals[i+1][0]}')\n",
    "            print(f'This is intervals[i+1][1] is {intervals[i+1][1]}')\n",
    "            value = [intervals[i][0], max(intervals[i][1], intervals[i+1][1])]\n",
    "            i=i+2\n",
    "    \n",
    "    if len(value)!=0 and value not in result:\n",
    "        result.append(value)\n",
    "    \n",
    "    return result\n",
    "            "
   ]
  },
  {
   "cell_type": "code",
   "execution_count": 2,
   "metadata": {},
   "outputs": [
    {
     "name": "stdout",
     "output_type": "stream",
     "text": [
      "[[1, 3], [2, 5], [6, 9]]\n",
      "This is i :0\n",
      "This is intervals[i][0] is 1\n",
      "This is intervals[i][1] is 3\n",
      "This is intervals[i+1][0] is 2\n",
      "This is intervals[i+1][1] is 5\n",
      "This is i :2\n",
      "This is value[0] is 1\n",
      "This is value[1] is 5\n",
      "This is intervals[i][0] is 6\n",
      "This is intervals[i][1] is 9\n",
      "[[1, 5], [6, 9]]\n"
     ]
    }
   ],
   "source": [
    "intervals = [[1,3],[6,9]]\n",
    "newInterval = [2,5]\n",
    "print(insert(intervals, newInterval))"
   ]
  },
  {
   "cell_type": "code",
   "execution_count": null,
   "metadata": {},
   "outputs": [],
   "source": []
  }
 ],
 "metadata": {
  "kernelspec": {
   "display_name": "Python 3",
   "language": "python",
   "name": "python3"
  },
  "language_info": {
   "codemirror_mode": {
    "name": "ipython",
    "version": 3
   },
   "file_extension": ".py",
   "mimetype": "text/x-python",
   "name": "python",
   "nbconvert_exporter": "python",
   "pygments_lexer": "ipython3",
   "version": "3.8.5"
  }
 },
 "nbformat": 4,
 "nbformat_minor": 4
}
