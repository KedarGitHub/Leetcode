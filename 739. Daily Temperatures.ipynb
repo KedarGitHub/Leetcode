{
 "cells": [
  {
   "cell_type": "code",
   "execution_count": 47,
   "metadata": {},
   "outputs": [],
   "source": [
    "def dailyTemperatures1(temperatures) :\n",
    "    left=0\n",
    "    right=1\n",
    "    n = len(temperatures)\n",
    "    count=0\n",
    "    result=[]\n",
    "    flag=0\n",
    "    while left<n:\n",
    "        if right == (n-1):\n",
    "            if temperatures[left]< temperatures[right]:\n",
    "                count=count+1\n",
    "                result.append(count)\n",
    "            else:\n",
    "                result.append(0)\n",
    "            count=0\n",
    "            left+=1\n",
    "            if (left+1)==n:\n",
    "                result.append(count)\n",
    "                break\n",
    "            right=left+1                \n",
    "        elif temperatures[left]>=temperatures[right]:\n",
    "            right +=1\n",
    "            count+=1 \n",
    "        elif temperatures[left]< temperatures[right]:\n",
    "            count=count+1\n",
    "            result.append(count)\n",
    "            count=0\n",
    "            left+=1\n",
    "            if (left+1)==n:\n",
    "                result.append(count)\n",
    "                break\n",
    "            right=left+1\n",
    "    return result\n",
    "    \n",
    "        \n",
    "    "
   ]
  },
  {
   "cell_type": "code",
   "execution_count": null,
   "metadata": {},
   "outputs": [],
   "source": [
    "def dailyTemperatures2(temperatures):\n",
    "        length = len(temperatures)\n",
    "        result = [0]*length\n",
    "\n",
    "        for i, val in enumerate(temperatures):\n",
    "            count=0\n",
    "            for j in range(i+1, length):\n",
    "                if temperatures[i]>=temperatures[j]:\n",
    "                    if (j+1)==length:\n",
    "                        result[i]=0\n",
    "                        break\n",
    "                    count=count+1\n",
    "                elif temperatures[i]<temperatures[j]:\n",
    "                    count+=1\n",
    "                    result[i]=count\n",
    "                    break\n",
    "        return result"
   ]
  },
  {
   "cell_type": "code",
   "execution_count": 49,
   "metadata": {},
   "outputs": [],
   "source": [
    " def dailyTemperatures(temperatures):\n",
    "        stack=[]\n",
    "        res=[0]*len(temperatures)\n",
    "        for i in range(len(temperatures)):\n",
    "            print(f'This is stack {stack}')\n",
    "            print(f'This is temperatures[i] {temperatures[i]}')\n",
    "            while stack and temperatures[stack[-1]]<temperatures[i]:\n",
    "                print(f'This is temperatures[stack[-1]] {temperatures[stack[-1]]}')\n",
    "                print(f'i-stack[-1] {i-stack[-1]}')\n",
    "                res[stack[-1]]=i-stack[-1]\n",
    "                stack.pop()\n",
    "            stack.append(i)\n",
    "        return res"
   ]
  },
  {
   "cell_type": "code",
   "execution_count": 50,
   "metadata": {},
   "outputs": [
    {
     "name": "stdout",
     "output_type": "stream",
     "text": [
      "This is stack []\n",
      "This is temperatures[i] 89\n",
      "This is stack [0]\n",
      "This is temperatures[i] 62\n",
      "This is stack [0, 1]\n",
      "This is temperatures[i] 70\n",
      "This is temperatures[stack[-1]] 62\n",
      "i-stack[-1] 1\n",
      "This is stack [0, 2]\n",
      "This is temperatures[i] 58\n",
      "This is stack [0, 2, 3]\n",
      "This is temperatures[i] 47\n",
      "This is stack [0, 2, 3, 4]\n",
      "This is temperatures[i] 47\n",
      "This is stack [0, 2, 3, 4, 5]\n",
      "This is temperatures[i] 46\n",
      "This is stack [0, 2, 3, 4, 5, 6]\n",
      "This is temperatures[i] 76\n",
      "This is temperatures[stack[-1]] 46\n",
      "i-stack[-1] 1\n",
      "This is temperatures[stack[-1]] 47\n",
      "i-stack[-1] 2\n",
      "This is temperatures[stack[-1]] 47\n",
      "i-stack[-1] 3\n",
      "This is temperatures[stack[-1]] 58\n",
      "i-stack[-1] 4\n",
      "This is temperatures[stack[-1]] 70\n",
      "i-stack[-1] 5\n",
      "This is stack [0, 7]\n",
      "This is temperatures[i] 100\n",
      "This is temperatures[stack[-1]] 76\n",
      "i-stack[-1] 1\n",
      "This is temperatures[stack[-1]] 89\n",
      "i-stack[-1] 8\n",
      "This is stack [8]\n",
      "This is temperatures[i] 70\n",
      "[8, 1, 5, 4, 3, 2, 1, 1, 0, 0]\n"
     ]
    }
   ],
   "source": [
    "temperatures = [89,62,70,58,47,47,46,76,100,70]\n",
    "print(dailyTemperatures(temperatures))"
   ]
  },
  {
   "cell_type": "code",
   "execution_count": null,
   "metadata": {},
   "outputs": [],
   "source": []
  }
 ],
 "metadata": {
  "kernelspec": {
   "display_name": "Python 3",
   "language": "python",
   "name": "python3"
  },
  "language_info": {
   "codemirror_mode": {
    "name": "ipython",
    "version": 3
   },
   "file_extension": ".py",
   "mimetype": "text/x-python",
   "name": "python",
   "nbconvert_exporter": "python",
   "pygments_lexer": "ipython3",
   "version": "3.8.5"
  }
 },
 "nbformat": 4,
 "nbformat_minor": 4
}
