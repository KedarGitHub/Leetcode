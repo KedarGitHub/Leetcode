{
 "cells": [
  {
   "cell_type": "code",
   "execution_count": 31,
   "metadata": {},
   "outputs": [],
   "source": [
    "def twoSum(nums, target):\n",
    "        \"\"\"\n",
    "        :type nums: List[int]\n",
    "        :type target: int\n",
    "        :rtype: List[int]\n",
    "        \"\"\"\n",
    "        for i in range(len(nums)):\n",
    "            for j in range(i+1,len(nums)):\n",
    "                    if (nums[i]+nums[j])== target:\n",
    "                        return [i,j]"
   ]
  },
  {
   "cell_type": "code",
   "execution_count": 33,
   "metadata": {},
   "outputs": [
    {
     "name": "stdout",
     "output_type": "stream",
     "text": [
      "[0, 2]\n"
     ]
    }
   ],
   "source": [
    "nums = [4, 6 , 2]\n",
    "target = 6\n",
    "print(twoSum(nums, target))"
   ]
  },
  {
   "cell_type": "code",
   "execution_count": 52,
   "metadata": {},
   "outputs": [],
   "source": [
    "# Works only for if complement is not equal to value eg: list = [4,0] target=8 now complement = 8-4=4. But there are no two fours \n",
    "# but still \"if complement in nums:\" is satisfied as one 4 is available.\n",
    "from collections import OrderedDict\n",
    "def twoSum1(nums, target):\n",
    "        \"\"\"\n",
    "        :type nums: List[int]\n",
    "        :type target: int\n",
    "        :rtype: List[int]\n",
    "        \"\"\"\n",
    "#         for i,value in enumerate(nums):\n",
    "#             complement = target - value\n",
    "#             try:\n",
    "#                 index = nums.index(complement)\n",
    "#             except:\n",
    "#                 continue\n",
    "#             if index!=i:\n",
    "#                 return [i, nums.index(complement)]\n",
    "        \n",
    "        dict_nums = OrderedDict()\n",
    "        dict_nums = { i:num for i,num in enumerate(nums)}\n",
    "        print(dict_nums)\n",
    "        for key,value in dict_nums.items():\n",
    "            complement = target - value\n",
    "            try:\n",
    "                index = nums.index(complement) # We are searching here so O(n), hence overall O(n^2)\n",
    "            except:\n",
    "                continue\n",
    "            if index!= key:\n",
    "                return [key, nums.index(complement)]"
   ]
  },
  {
   "cell_type": "code",
   "execution_count": 53,
   "metadata": {},
   "outputs": [
    {
     "name": "stdout",
     "output_type": "stream",
     "text": [
      "{0: 3, 1: 2, 2: 4}\n",
      "[1, 2]\n"
     ]
    }
   ],
   "source": [
    "nums = [3,2,4]\n",
    "target = 6\n",
    "print(twoSum1(nums, target))"
   ]
  },
  {
   "cell_type": "code",
   "execution_count": 26,
   "metadata": {},
   "outputs": [],
   "source": [
    "# Only if all values are unique, for duplicates it will fail\n",
    "def twoSum(nums, target):\n",
    "        \"\"\"\n",
    "        :type nums: List[int]\n",
    "        :type target: int\n",
    "        :rtype: List[int]\n",
    "        \"\"\"\n",
    "        \n",
    "        temp = sorted(nums)\n",
    "        index = list()\n",
    "        i=0\n",
    "        j = len(nums)-1\n",
    "        while i<j:\n",
    "            if temp[i]+temp[j]>target:\n",
    "                j=j-1\n",
    "            elif temp[i]+temp[j]<target:\n",
    "                i=i+1\n",
    "            else:\n",
    "                return [nums.index(temp[i]),nums.index(temp[j])]\n",
    "        "
   ]
  },
  {
   "cell_type": "code",
   "execution_count": 27,
   "metadata": {},
   "outputs": [
    {
     "name": "stdout",
     "output_type": "stream",
     "text": [
      "[3, 3]\n"
     ]
    }
   ],
   "source": [
    "nums = [3,3]\n",
    "target = 6\n",
    "print(twoSum2(nums, target))"
   ]
  },
  {
   "cell_type": "code",
   "execution_count": null,
   "metadata": {},
   "outputs": [],
   "source": []
  }
 ],
 "metadata": {
  "kernelspec": {
   "display_name": "Python 3",
   "language": "python",
   "name": "python3"
  },
  "language_info": {
   "codemirror_mode": {
    "name": "ipython",
    "version": 3
   },
   "file_extension": ".py",
   "mimetype": "text/x-python",
   "name": "python",
   "nbconvert_exporter": "python",
   "pygments_lexer": "ipython3",
   "version": "3.8.5"
  }
 },
 "nbformat": 4,
 "nbformat_minor": 4
}
