{
 "cells": [
  {
   "cell_type": "code",
   "execution_count": null,
   "metadata": {},
   "outputs": [],
   "source": [
    "def convert(s, number):\n",
    "    myarray = [[]]\n",
    "    for i, val in enumerate(s):\n",
    "        for j \n",
    "    "
   ]
  },
  {
   "cell_type": "code",
   "execution_count": 5,
   "metadata": {},
   "outputs": [
    {
     "name": "stdout",
     "output_type": "stream",
     "text": [
      "[['P', '', 'A', '', 'H', '', 'N'], ['A', 'P', 'L', 'S', 'I', 'I', 'G'], ['Y', '', 'I', '', 'R', '', '']]\n"
     ]
    }
   ],
   "source": [
    "myarray = [['P','','A','','H','','N'], ['A','P','L','S','I','I','G'], ['Y','','I','','R','','',]]\n",
    "print(myarray)"
   ]
  },
  {
   "cell_type": "code",
   "execution_count": null,
   "metadata": {},
   "outputs": [],
   "source": []
  }
 ],
 "metadata": {
  "kernelspec": {
   "display_name": "Python 3",
   "language": "python",
   "name": "python3"
  },
  "language_info": {
   "codemirror_mode": {
    "name": "ipython",
    "version": 3
   },
   "file_extension": ".py",
   "mimetype": "text/x-python",
   "name": "python",
   "nbconvert_exporter": "python",
   "pygments_lexer": "ipython3",
   "version": "3.8.5"
  }
 },
 "nbformat": 4,
 "nbformat_minor": 4
}
