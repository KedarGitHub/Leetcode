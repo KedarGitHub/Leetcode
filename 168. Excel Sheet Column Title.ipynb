{
 "cells": [
  {
   "cell_type": "code",
   "execution_count": 107,
   "metadata": {},
   "outputs": [],
   "source": [
    "def convertToTitle(columnNumber):\n",
    "        mydict = {1:'A', 2:'B', 3:'C', 4:'D', 5:'E', 6:'F', 7:'G', 8:'H', 9:'I', 10:'J', 11:'K', 12:'L', 13:'M', 14:'N', 15:'O', 16:'P', 17:'Q', 18:'R', 19:'S', 20:'T', 21:'U', 22:'V', 23: 'W', 24:'X', 25:'Y', 26:'Z'}\n",
    "        mylist = [] \n",
    "        while True:\n",
    "            print(mylist)\n",
    "            print(columnNumber)\n",
    "            remainder = columnNumber%26\n",
    "            quotient = columnNumber//26\n",
    "            print(f'This is the quotient: {quotient}')\n",
    "            print(f'This is the remainder: {remainder}')\n",
    "#             mylist.append(mydict[remainder])\n",
    "#             if remainder==0 and quotient==0:\n",
    "#                 print(\"Invalid\")\n",
    "#                 break\n",
    "            if remainder==0:\n",
    "                if quotient==1:\n",
    "                    mylist.append('Z')\n",
    "                    break\n",
    "                elif quotient>1 and quotient<=27:            \n",
    "                    mylist.append('Z')\n",
    "                    mylist.append(mydict[quotient-1])\n",
    "                    break\n",
    "                else:\n",
    "                    mylist.append('Z')\n",
    "                    columnNumber = quotient-1\n",
    "            elif quotient==0:\n",
    "                mylist.append(mydict[remainder])\n",
    "                break\n",
    "            \n",
    "            elif quotient<=26:\n",
    "                mylist.append(mydict[remainder])\n",
    "                mylist.append(mydict[quotient])\n",
    "                break\n",
    "            elif quotient>26:\n",
    "                mylist.append(mydict[remainder])\n",
    "                columnNumber = quotient\n",
    "        mylist.reverse()\n",
    "        return \"\".join(mylist)\n",
    "            "
   ]
  },
  {
   "cell_type": "code",
   "execution_count": 111,
   "metadata": {},
   "outputs": [
    {
     "name": "stdout",
     "output_type": "stream",
     "text": [
      "[]\n",
      "702\n",
      "This is the quotient: 27\n",
      "This is the remainder: 0\n",
      "ZZ\n"
     ]
    }
   ],
   "source": [
    "columnNumber = 702\n",
    "print(convertToTitle(columnNumber))\n"
   ]
  },
  {
   "cell_type": "code",
   "execution_count": 109,
   "metadata": {},
   "outputs": [
    {
     "name": "stdout",
     "output_type": "stream",
     "text": [
      "[]\n",
      "943566\n",
      "This is the quotient: 36291\n",
      "This is the remainder: 0\n",
      "['Z']\n",
      "36290\n",
      "This is the quotient: 1395\n",
      "This is the remainder: 20\n",
      "['Z', 'T']\n",
      "1395\n",
      "This is the quotient: 53\n",
      "This is the remainder: 17\n",
      "['Z', 'T', 'Q']\n",
      "53\n",
      "This is the quotient: 2\n",
      "This is the remainder: 1\n",
      "BAQTZ\n"
     ]
    }
   ],
   "source": [
    "columnNumber = 943566\n",
    "print(convertToTitle(columnNumber))"
   ]
  },
  {
   "cell_type": "code",
   "execution_count": null,
   "metadata": {},
   "outputs": [],
   "source": [
    "if remainder==0:\n",
    "                if quotient==1:\n",
    "                    mylist.append('Z')\n",
    "                    break\n",
    "                elif quotient>1 and quotient<=26:            \n",
    "                    mylist.append('Z')\n",
    "                    mylist.append(mydict[quotient-1])\n",
    "                    break\n",
    "                else:\n",
    "                     mylist.append('Z')   \n",
    "            elif quotient==0:\n",
    "                mylist.append(mydict[remainder])\n",
    "                break\n",
    "            \n",
    "            elif quotient<=26:\n",
    "                mylist.append(mydict[remainder])\n",
    "                mylist.append(mydict[quotient])\n",
    "                break\n",
    "            elif quotient>26:\n",
    "                mylist.append(mydict[remainder])\n",
    "            columnNumber = quotient\n",
    "        mylist.reverse()\n",
    "        return \"\".join(mylist)\n",
    "            "
   ]
  }
 ],
 "metadata": {
  "kernelspec": {
   "display_name": "Python 3",
   "language": "python",
   "name": "python3"
  },
  "language_info": {
   "codemirror_mode": {
    "name": "ipython",
    "version": 3
   },
   "file_extension": ".py",
   "mimetype": "text/x-python",
   "name": "python",
   "nbconvert_exporter": "python",
   "pygments_lexer": "ipython3",
   "version": "3.8.5"
  }
 },
 "nbformat": 4,
 "nbformat_minor": 4
}
