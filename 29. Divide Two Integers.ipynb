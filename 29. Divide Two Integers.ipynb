{
 "cells": [
  {
   "cell_type": "code",
   "execution_count": 29,
   "metadata": {},
   "outputs": [],
   "source": [
    " def divide(dividend, divisor):\n",
    "        quotient=0\n",
    "        if dividend == 0:\n",
    "            return 0\n",
    "        elif divisor==1:\n",
    "            if dividend >  2147483647:\n",
    "                return 2147483647\n",
    "            elif dividend < -2147483648:\n",
    "                return -2147483648\n",
    "            return dividend\n",
    "        elif divisor==-1:\n",
    "            dividend = -dividend\n",
    "            if dividend >  2147483647:\n",
    "                return 2147483647\n",
    "            elif dividend < -2147483648:\n",
    "                return -2147483648\n",
    "            return dividend\n",
    "        elif (dividend <0 and divisor<0) or (dividend >0 and divisor>0):\n",
    "            while abs(dividend)>= abs(divisor):\n",
    "                dividend = dividend - divisor\n",
    "                quotient +=1\n",
    "                \n",
    "        elif (dividend<0 and divisor>0) or (dividend>0 and divisor<0):\n",
    "            while abs(dividend)>= abs(divisor):\n",
    "                dividend = dividend + divisor\n",
    "                quotient -=1\n",
    "        \n",
    "        if quotient >  2147483647:\n",
    "            return 2147483647\n",
    "        elif quotient < -2147483648:\n",
    "            return -2147483648\n",
    "        return quotient "
   ]
  },
  {
   "cell_type": "code",
   "execution_count": 31,
   "metadata": {},
   "outputs": [
    {
     "name": "stdout",
     "output_type": "stream",
     "text": [
      "-2147483648\n"
     ]
    }
   ],
   "source": [
    "dividend = -2147483648\n",
    "divisor = 1\n",
    "print(divide(dividend, divisor))"
   ]
  },
  {
   "cell_type": "code",
   "execution_count": null,
   "metadata": {},
   "outputs": [],
   "source": []
  }
 ],
 "metadata": {
  "kernelspec": {
   "display_name": "Python 3",
   "language": "python",
   "name": "python3"
  },
  "language_info": {
   "codemirror_mode": {
    "name": "ipython",
    "version": 3
   },
   "file_extension": ".py",
   "mimetype": "text/x-python",
   "name": "python",
   "nbconvert_exporter": "python",
   "pygments_lexer": "ipython3",
   "version": "3.8.5"
  }
 },
 "nbformat": 4,
 "nbformat_minor": 4
}
