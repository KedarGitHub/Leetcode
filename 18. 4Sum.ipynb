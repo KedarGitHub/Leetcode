{
 "cells": [
  {
   "cell_type": "code",
   "execution_count": 7,
   "metadata": {},
   "outputs": [],
   "source": [
    "def fourSum(nums, target) :\n",
    "        length = len(nums)\n",
    "        result=[]\n",
    "        nums.sort()\n",
    "        for i in range(length):\n",
    "#             print(f'This is i {i} and this is nums[i] {nums[i]}')\n",
    "            for j in range(i+1,length):\n",
    "#                 print(f'This is j {j} and this is nums[j] {nums[j]}')\n",
    "                k = j+1\n",
    "                l = length-1\n",
    "                while k<l:\n",
    "#                     print(f'This is k {k} and this is nums[k] {nums[k]}')\n",
    "#                     print(f'This is l {l} and this is nums[l] {nums[l]}')\n",
    "                    if nums[i]+nums[j]+nums[k]+nums[l]==target:\n",
    "                        if [nums[i], nums[j], nums[k], nums[l]] not in result:\n",
    "                            result.append([nums[i], nums[j], nums[k], nums[l]])\n",
    "                        k=k+1\n",
    "                        l=l-1\n",
    "                    elif nums[i]+nums[j]+nums[k]+nums[l]<target:\n",
    "                        k=k+1\n",
    "                    elif nums[i]+nums[j]+nums[k]+nums[l]>target:\n",
    "                        l=l-1\n",
    "        return result\n",
    "\n"
   ]
  },
  {
   "cell_type": "code",
   "execution_count": 8,
   "metadata": {},
   "outputs": [
    {
     "name": "stdout",
     "output_type": "stream",
     "text": [
      "[[-2, -1, 1, 2], [-2, 0, 0, 2], [-1, 0, 0, 1]]\n"
     ]
    }
   ],
   "source": [
    "nums = [1,0,-1,0,-2,2]\n",
    "target = 0\n",
    "print(fourSum(nums, target))"
   ]
  },
  {
   "cell_type": "code",
   "execution_count": null,
   "metadata": {},
   "outputs": [],
   "source": []
  }
 ],
 "metadata": {
  "kernelspec": {
   "display_name": "Python 3",
   "language": "python",
   "name": "python3"
  },
  "language_info": {
   "codemirror_mode": {
    "name": "ipython",
    "version": 3
   },
   "file_extension": ".py",
   "mimetype": "text/x-python",
   "name": "python",
   "nbconvert_exporter": "python",
   "pygments_lexer": "ipython3",
   "version": "3.8.5"
  }
 },
 "nbformat": 4,
 "nbformat_minor": 4
}
