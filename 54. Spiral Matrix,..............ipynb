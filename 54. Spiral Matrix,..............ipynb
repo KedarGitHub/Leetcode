{
 "cells": [
  {
   "cell_type": "code",
   "execution_count": 12,
   "metadata": {},
   "outputs": [],
   "source": [
    "def spiralOrder(matrix):\n",
    "        \n",
    "        rows= len(matrix)\n",
    "        columns= len(matrix[0])\n",
    "\n",
    "        top = 0\n",
    "        bottom = rows-1\n",
    "        left=0\n",
    "        right = columns-1\n",
    "        cur=1\n",
    "\n",
    "        result= list()\n",
    "\n",
    "        num_elements = rows*columns\n",
    "\n",
    "        # elements = numbers = [[0 for x in range(n)] for _ in range(m)]\n",
    "\n",
    "        while cur <= num_elements:\n",
    "            print(f'This is current : {cur}')\n",
    "            \n",
    "            if cur > num_elements:\n",
    "                break\n",
    "\n",
    "            for i in range(left, right+1):\n",
    "                print(f' this is matrix[top][i] : {matrix[top][i]}')\n",
    "                result.append(matrix[top][i])\n",
    "                cur+=1\n",
    "            \n",
    "            if cur > num_elements:\n",
    "                break\n",
    "\n",
    "            top +=1\n",
    "\n",
    "            for i in range(top, bottom+1):\n",
    "                print(f'This is matrix[i][right] : {matrix[i][right]}')\n",
    "                result.append(matrix[i][right])\n",
    "                cur+=1\n",
    "            \n",
    "            if cur > num_elements:\n",
    "                break\n",
    "            \n",
    "            right-=1\n",
    "\n",
    "            for i in range(right, left-1, -1):\n",
    "                print(f'This is matrix[bottom][i] : {matrix[bottom][i]}')\n",
    "                result.append(matrix[bottom][i])\n",
    "                cur+=1\n",
    "            \n",
    "            if cur > num_elements:\n",
    "                break\n",
    "\n",
    "            bottom-=1\n",
    "\n",
    "            for i in range(bottom, top-1,-1):\n",
    "                print(f'This is matrix[i][left]: {matrix[i][left]}')\n",
    "                result.append(matrix[i][left])\n",
    "                cur+=1\n",
    "\n",
    "            left+=1\n",
    "\n",
    "        return (result)"
   ]
  },
  {
   "cell_type": "code",
   "execution_count": 13,
   "metadata": {},
   "outputs": [
    {
     "name": "stdout",
     "output_type": "stream",
     "text": [
      "This is current : 1\n",
      " this is matrix[top][i] : 1\n",
      " this is matrix[top][i] : 2\n",
      " this is matrix[top][i] : 3\n",
      " this is matrix[top][i] : 4\n",
      "This is matrix[i][right] : 8\n",
      "This is matrix[i][right] : 12\n",
      "This is matrix[bottom][i] : 11\n",
      "This is matrix[bottom][i] : 10\n",
      "This is matrix[bottom][i] : 9\n",
      "This is matrix[i][left]: 5\n",
      "This is current : 11\n",
      " this is matrix[top][i] : 6\n",
      " this is matrix[top][i] : 7\n",
      "[1, 2, 3, 4, 8, 12, 11, 10, 9, 5, 6, 7]\n"
     ]
    }
   ],
   "source": [
    "matrix = [[1,2,3,4],[5,6,7,8],[9,10,11,12]]\n",
    "print(spiralOrder(matrix))"
   ]
  },
  {
   "cell_type": "code",
   "execution_count": null,
   "metadata": {},
   "outputs": [],
   "source": []
  }
 ],
 "metadata": {
  "kernelspec": {
   "display_name": "Python 3",
   "language": "python",
   "name": "python3"
  },
  "language_info": {
   "codemirror_mode": {
    "name": "ipython",
    "version": 3
   },
   "file_extension": ".py",
   "mimetype": "text/x-python",
   "name": "python",
   "nbconvert_exporter": "python",
   "pygments_lexer": "ipython3",
   "version": "3.8.5"
  }
 },
 "nbformat": 4,
 "nbformat_minor": 4
}
