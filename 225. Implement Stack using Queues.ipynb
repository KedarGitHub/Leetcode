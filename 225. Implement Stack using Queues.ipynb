{
 "cells": [
  {
   "cell_type": "code",
   "execution_count": 19,
   "metadata": {},
   "outputs": [],
   "source": [
    "from collections import deque\n",
    "class MyStack:\n",
    "\n",
    "    def __init__(self):\n",
    "        self.q = deque()\n",
    "\n",
    "    def push(self, x):\n",
    "        self.q.append(x)\n",
    "        print(self.q)\n",
    "    \n",
    "    def push_left(self, x):\n",
    "        self.q.appendleft(x)\n",
    "        print(self.q)\n",
    "        \n",
    "\n",
    "    def pop_left(self):\n",
    "        print(self.q)\n",
    "        return self.q.popleft()\n",
    "    \n",
    "    def pop(self):\n",
    "        print(self.q)\n",
    "        return self.q.pop()\n",
    "        \n",
    "\n",
    "    def top(self):\n",
    "        print(self.q)\n",
    "        return self.q[-1]\n",
    "        \n",
    "\n",
    "    def empty(self):\n",
    "        print(self.q)\n",
    "        return len(self.q) == 0"
   ]
  },
  {
   "cell_type": "code",
   "execution_count": 20,
   "metadata": {},
   "outputs": [
    {
     "name": "stdout",
     "output_type": "stream",
     "text": [
      "deque([1])\n",
      "deque([1, 2])\n",
      "deque([1, 2, 3])\n",
      "deque([1, 2, 3, 4])\n",
      "deque([1, 2, 3, 4, 5])\n",
      "deque([1, 2, 3, 4, 5, 6])\n",
      "deque([1, 2, 3, 4, 5, 6])\n",
      "deque([1, 2, 3, 4, 5, 6])\n",
      "deque([1, 2, 3, 4, 5])\n",
      "deque([2, 3, 4, 5])\n"
     ]
    },
    {
     "data": {
      "text/plain": [
       "False"
      ]
     },
     "execution_count": 20,
     "metadata": {},
     "output_type": "execute_result"
    }
   ],
   "source": [
    "my_Stack = MyStack()\n",
    "my_Stack.push(1)\n",
    "my_Stack.push(2)\n",
    "my_Stack.push(3)\n",
    "my_Stack.push(4)\n",
    "my_Stack.push(5)\n",
    "my_Stack.push(6)\n",
    "my_Stack.top()\n",
    "my_Stack.pop()\n",
    "my_Stack.pop_left()\n",
    "my_Stack.empty()\n",
    " "
   ]
  },
  {
   "cell_type": "code",
   "execution_count": null,
   "metadata": {},
   "outputs": [],
   "source": []
  }
 ],
 "metadata": {
  "kernelspec": {
   "display_name": "Python 3",
   "language": "python",
   "name": "python3"
  },
  "language_info": {
   "codemirror_mode": {
    "name": "ipython",
    "version": 3
   },
   "file_extension": ".py",
   "mimetype": "text/x-python",
   "name": "python",
   "nbconvert_exporter": "python",
   "pygments_lexer": "ipython3",
   "version": "3.8.5"
  }
 },
 "nbformat": 4,
 "nbformat_minor": 4
}
