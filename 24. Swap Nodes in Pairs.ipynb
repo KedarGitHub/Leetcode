{
 "cells": [
  {
   "cell_type": "code",
   "execution_count": null,
   "metadata": {},
   "outputs": [],
   "source": [
    "class Solution:\n",
    "    def swapPairs(self, head: Optional[ListNode]) -> Optional[ListNode]:\n",
    "        if head:\n",
    "            previous = head\n",
    "            if head.next:\n",
    "                current = head.next\n",
    "                flag=0\n",
    "                old = None\n",
    "\n",
    "\n",
    "                while previous and current:\n",
    "                    next = current.next\n",
    "                    current.next = previous\n",
    "                    previous.next= next\n",
    "                    \n",
    "                    if flag==0:\n",
    "                        new_head= current\n",
    "                        flag=1\n",
    "                    \n",
    "                    if old:\n",
    "                        old.next=current\n",
    "\n",
    "                    old = previous\n",
    "                    if previous.next:\n",
    "                        previous = previous.next\n",
    "                        if previous.next:\n",
    "                            current = previous.next\n",
    "                        else:\n",
    "                            break\n",
    "                    else:\n",
    "                        break\n",
    "                return new_head\n",
    "            else:\n",
    "                return previous\n",
    "        else:\n",
    "            return head\n"
   ]
  },
  {
   "cell_type": "code",
   "execution_count": null,
   "metadata": {},
   "outputs": [],
   "source": [
    "def swapPairs(head):\n",
    "        "
   ]
  }
 ],
 "metadata": {
  "kernelspec": {
   "display_name": "Python 3",
   "language": "python",
   "name": "python3"
  },
  "language_info": {
   "codemirror_mode": {
    "name": "ipython",
    "version": 3
   },
   "file_extension": ".py",
   "mimetype": "text/x-python",
   "name": "python",
   "nbconvert_exporter": "python",
   "pygments_lexer": "ipython3",
   "version": "3.8.5"
  }
 },
 "nbformat": 4,
 "nbformat_minor": 4
}
