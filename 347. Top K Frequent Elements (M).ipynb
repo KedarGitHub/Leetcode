{
 "cells": [
  {
   "cell_type": "code",
   "execution_count": 50,
   "metadata": {},
   "outputs": [],
   "source": [
    "def topKFrequent(nums, k):\n",
    "        \"\"\"\n",
    "        :type nums: List[int]\n",
    "        :type k: int\n",
    "        :rtype: List[int]\n",
    "        \"\"\"\n",
    "        list_set= set(nums)\n",
    "        dictionary = dict()\n",
    "        for i in list_set:\n",
    "            dictionary[i]=nums.count(i)\n",
    "#         print(dictionary)\n",
    "        \n",
    "        list1 = sorted(dictionary.items(), key = lambda x:x[1], reverse=True)\n",
    "#         print(list1)\n",
    "        x = [list1[i][0] for i in range(len(list1))]\n",
    "#         print(x)\n",
    "        return(x[:k])"
   ]
  },
  {
   "cell_type": "code",
   "execution_count": 51,
   "metadata": {},
   "outputs": [
    {
     "name": "stdout",
     "output_type": "stream",
     "text": [
      "{1: 3, 2: 3, 3: 1}\n",
      "[(1, 3), (2, 3), (3, 1)]\n",
      "[1, 2, 3]\n",
      "[1, 2]\n"
     ]
    }
   ],
   "source": [
    "nums = [2,1,1,1,2,2,3]\n",
    "k = 2\n",
    "print(topKFrequent(nums, k))"
   ]
  },
  {
   "cell_type": "code",
   "execution_count": null,
   "metadata": {},
   "outputs": [],
   "source": []
  }
 ],
 "metadata": {
  "kernelspec": {
   "display_name": "Python 3",
   "language": "python",
   "name": "python3"
  },
  "language_info": {
   "codemirror_mode": {
    "name": "ipython",
    "version": 3
   },
   "file_extension": ".py",
   "mimetype": "text/x-python",
   "name": "python",
   "nbconvert_exporter": "python",
   "pygments_lexer": "ipython3",
   "version": "3.8.5"
  }
 },
 "nbformat": 4,
 "nbformat_minor": 4
}
