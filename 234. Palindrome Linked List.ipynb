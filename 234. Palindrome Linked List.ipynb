{
 "cells": [
  {
   "cell_type": "code",
   "execution_count": null,
   "metadata": {},
   "outputs": [],
   "source": [
    "class Solution:\n",
    "    def isPalindrome(self, head: Optional[ListNode]) -> bool:\n",
    "\n",
    "        cur = head\n",
    "        llist = []\n",
    "        length =0\n",
    "        while cur:\n",
    "            llist.append(cur.val)\n",
    "            length+=1\n",
    "            cur = cur.next\n",
    "\n",
    "        left = 0\n",
    "        right = length-1\n",
    "\n",
    "        while left<right:\n",
    "            if llist[left] != llist[right]:\n",
    "                return False\n",
    "            left+=1\n",
    "            right-=1\n",
    "        return True"
   ]
  }
 ],
 "metadata": {
  "kernelspec": {
   "display_name": "Python 3",
   "language": "python",
   "name": "python3"
  },
  "language_info": {
   "codemirror_mode": {
    "name": "ipython",
    "version": 3
   },
   "file_extension": ".py",
   "mimetype": "text/x-python",
   "name": "python",
   "nbconvert_exporter": "python",
   "pygments_lexer": "ipython3",
   "version": "3.8.5"
  }
 },
 "nbformat": 4,
 "nbformat_minor": 4
}
