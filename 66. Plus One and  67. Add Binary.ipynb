{
 "cells": [
  {
   "cell_type": "code",
   "execution_count": 11,
   "metadata": {},
   "outputs": [],
   "source": [
    "def plusOne(digits):\n",
    "        digits = [str(i) for i in digits]\n",
    "        integer = ''.join(digits)\n",
    "        integer = int(integer)+1\n",
    "        digits = [ int(i) for i in str(integer)]\n",
    "        return digits"
   ]
  },
  {
   "cell_type": "code",
   "execution_count": 12,
   "metadata": {},
   "outputs": [
    {
     "name": "stdout",
     "output_type": "stream",
     "text": [
      "['1', '2', '3']\n",
      "124\n",
      "[1, 2, 4]\n"
     ]
    }
   ],
   "source": [
    "digits = [1,2,3]\n",
    "print(plusOne(digits))"
   ]
  },
  {
   "cell_type": "code",
   "execution_count": 51,
   "metadata": {},
   "outputs": [],
   "source": [
    "def addBinary(a, b):\n",
    "    len_a = len(a)\n",
    "    len_b = len(b)\n",
    "    \n",
    "    if len_a ==0 and len_b==0:\n",
    "        return None\n",
    "    elif len_a ==0:\n",
    "        return b\n",
    "    elif len_b ==0:\n",
    "        return a\n",
    "    else:\n",
    "        flag=0\n",
    "        my_list=[]\n",
    "        a = [int(i) for i in a]\n",
    "        b = [int(i) for i in b]\n",
    "        if len_a > len_b:\n",
    "            for i in range(len_a):\n",
    "                if (len_b-1-i)>=0:\n",
    "                    sum = (a[len_a-1-i]+b[len_b-1-i]+flag)%2\n",
    "                    quotient = (a[len_a-1-i]+b[len_b-1-i]+flag)//2\n",
    "                else:\n",
    "                    sum = (a[len_a-1-i]+flag)%2\n",
    "                    quotient = (a[len_a-1-i]+flag)//2\n",
    "                if (sum==0 and quotient==1) or (sum==1 and quotient==1):\n",
    "                    flag=1\n",
    "                else:\n",
    "                    flag=0\n",
    "                my_list.append(str(sum))\n",
    "            if flag==1:\n",
    "                my_list.append(str(flag))\n",
    "            my_list.reverse()\n",
    "            return (\"\".join(my_list))\n",
    "        \n",
    "        else:\n",
    "            for i in range(len_b):\n",
    "                if (len_a-1-i)>=0:\n",
    "                    sum = (a[len_a-1-i]+b[len_b-1-i]+flag)%2 \n",
    "                    quotient = (a[len_a-1-i]+b[len_b-1-i]+flag)//2\n",
    "                else:\n",
    "                    sum = (b[len_b-1-i]+flag)%2 \n",
    "                    quotient = (b[len_b-1-i]+flag)//2\n",
    "                if (sum==0 and quotient==1) or (sum==1 and quotient==1):\n",
    "                    flag=1\n",
    "                else:\n",
    "                    flag=0\n",
    "                my_list.append(str(sum))\n",
    "            if flag==1:\n",
    "                my_list.append(str(flag))\n",
    "            my_list.reverse()\n",
    "            return (\"\".join(my_list))\n"
   ]
  },
  {
   "cell_type": "code",
   "execution_count": 52,
   "metadata": {},
   "outputs": [
    {
     "name": "stdout",
     "output_type": "stream",
     "text": [
      "11110\n"
     ]
    }
   ],
   "source": [
    "a = \"1111\"\n",
    "b = \"1111\"\n",
    "print(addBinary(a, b))"
   ]
  },
  {
   "cell_type": "code",
   "execution_count": null,
   "metadata": {},
   "outputs": [],
   "source": []
  }
 ],
 "metadata": {
  "kernelspec": {
   "display_name": "Python 3",
   "language": "python",
   "name": "python3"
  },
  "language_info": {
   "codemirror_mode": {
    "name": "ipython",
    "version": 3
   },
   "file_extension": ".py",
   "mimetype": "text/x-python",
   "name": "python",
   "nbconvert_exporter": "python",
   "pygments_lexer": "ipython3",
   "version": "3.8.5"
  }
 },
 "nbformat": 4,
 "nbformat_minor": 4
}
