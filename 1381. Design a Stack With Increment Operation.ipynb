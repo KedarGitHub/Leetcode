{
 "cells": [
  {
   "cell_type": "code",
   "execution_count": 7,
   "metadata": {},
   "outputs": [],
   "source": [
    "class CustomStack:\n",
    "\n",
    "    def __init__(self, maxSize: int):\n",
    "        self.stack=[]\n",
    "        self.maxSize = maxSize\n",
    "\n",
    "    def push(self, x: int) -> None:\n",
    "        if len(self.stack)!= self.maxSize:\n",
    "            self.stack.append(x)\n",
    "        \n",
    "    def pop(self) -> int:\n",
    "        if len(self.stack)==0:\n",
    "            return -1   \n",
    "        return self.stack.pop()\n",
    "        \n",
    "\n",
    "    def increment(self, k: int, val: int) -> None:\n",
    "        if len(self.stack)<k:\n",
    "            for i,value in enumerate(self.stack):\n",
    "                self.stack[i]= value+val\n",
    "        else:\n",
    "            for i in range(k):\n",
    "                self.stack[i]= self.stack[i]+val\n",
    "                \n",
    "    def display(self):\n",
    "        return self.stack"
   ]
  },
  {
   "cell_type": "code",
   "execution_count": 8,
   "metadata": {},
   "outputs": [
    {
     "name": "stdout",
     "output_type": "stream",
     "text": [
      "[1]\n",
      "[1, 2]\n",
      "[1]\n",
      "[1, 2]\n",
      "[1, 2, 3]\n",
      "[1, 2, 3]\n",
      "[101, 102, 103]\n",
      "[201, 202, 103]\n",
      "[201, 202]\n",
      "[201]\n",
      "[]\n",
      "[]\n"
     ]
    }
   ],
   "source": [
    "stk = CustomStack(3); \n",
    "stk.push(1);\n",
    "print(stk.display())\n",
    "stk.push(2);\n",
    "print(stk.display())\n",
    "stk.pop();          \n",
    "print(stk.display())\n",
    "stk.push(2);        \n",
    "print(stk.display())\n",
    "stk.push(3);        \n",
    "print(stk.display())\n",
    "stk.push(4);        \n",
    "print(stk.display())\n",
    "stk.increment(5, 100);\n",
    "print(stk.display())\n",
    "stk.increment(2, 100);\n",
    "print(stk.display())\n",
    "stk.pop();          \n",
    "print(stk.display())\n",
    "stk.pop();          \n",
    "print(stk.display())\n",
    "stk.pop();          \n",
    "print(stk.display())\n",
    "stk.pop();          \n",
    "print(stk.display())"
   ]
  },
  {
   "cell_type": "code",
   "execution_count": null,
   "metadata": {},
   "outputs": [],
   "source": []
  }
 ],
 "metadata": {
  "kernelspec": {
   "display_name": "Python 3",
   "language": "python",
   "name": "python3"
  },
  "language_info": {
   "codemirror_mode": {
    "name": "ipython",
    "version": 3
   },
   "file_extension": ".py",
   "mimetype": "text/x-python",
   "name": "python",
   "nbconvert_exporter": "python",
   "pygments_lexer": "ipython3",
   "version": "3.8.5"
  }
 },
 "nbformat": 4,
 "nbformat_minor": 4
}
