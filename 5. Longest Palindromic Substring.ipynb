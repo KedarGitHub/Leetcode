{
 "cells": [
  {
   "cell_type": "code",
   "execution_count": 38,
   "metadata": {},
   "outputs": [],
   "source": [
    "def longestPalindrome1(s):\n",
    "    index1, index2=0,0\n",
    "    length=0\n",
    "    for i in range(len(s)):\n",
    "            for j in range(len(s)-1, i, -1):\n",
    "                if s[i]==s[j]:\n",
    "                    print(f'This is the length of s[i] {s[i]}')\n",
    "                    print(f'This is the length of s[j] {s[j]}')\n",
    "                    if palindrome(s[i+1:j]):\n",
    "                        cur = j-i\n",
    "                        if cur>length:\n",
    "                            length = cur\n",
    "                            index1=i\n",
    "                            index2=j\n",
    "                elif i==j:\n",
    "                    break\n",
    "    return s[index1:index2+1]    "
   ]
  },
  {
   "cell_type": "code",
   "execution_count": 39,
   "metadata": {},
   "outputs": [],
   "source": [
    "def palindrome(s):\n",
    "    print(f'This is the string {s}')\n",
    "    if len(s)==1:\n",
    "        return True\n",
    "    elif s[0]==s[len(s)-1] and len(s)!=1:\n",
    "        print(f'This is s[0] {s[0]}')\n",
    "        print(f'This is s[len(s)-1] {s[len(s)-1]}')\n",
    "        return palindrome(s[1:len(s)-1])\n",
    "    "
   ]
  },
  {
   "cell_type": "code",
   "execution_count": 40,
   "metadata": {},
   "outputs": [
    {
     "name": "stdout",
     "output_type": "stream",
     "text": [
      "This is the length of s[i] a\n",
      "This is the length of s[j] a\n",
      "This is the length of string bcdedcb\n",
      "This is the length of s[0] b\n",
      "This is the length of s[len(s)-1] b\n",
      "This is the length of string cdedc\n",
      "This is the length of s[0] c\n",
      "This is the length of s[len(s)-1] c\n",
      "This is the length of string ded\n",
      "This is the length of s[0] d\n",
      "This is the length of s[len(s)-1] d\n",
      "This is the length of string e\n",
      "True\n",
      "This is the length of s[i] b\n",
      "This is the length of s[j] b\n",
      "This is the length of string cdedc\n",
      "This is the length of s[0] c\n",
      "This is the length of s[len(s)-1] c\n",
      "This is the length of string ded\n",
      "This is the length of s[0] d\n",
      "This is the length of s[len(s)-1] d\n",
      "This is the length of string e\n",
      "True\n",
      "This is the length of s[i] c\n",
      "This is the length of s[j] c\n",
      "This is the length of string ded\n",
      "This is the length of s[0] d\n",
      "This is the length of s[len(s)-1] d\n",
      "This is the length of string e\n",
      "True\n",
      "This is the length of s[i] d\n",
      "This is the length of s[j] d\n",
      "This is the length of string e\n",
      "True\n"
     ]
    },
    {
     "data": {
      "text/plain": [
       "'abcdedcba'"
      ]
     },
     "execution_count": 40,
     "metadata": {},
     "output_type": "execute_result"
    }
   ],
   "source": [
    "s = \"abcdedcba\"\n",
    "longestPalindrome(s)"
   ]
  },
  {
   "cell_type": "code",
   "execution_count": 6,
   "metadata": {},
   "outputs": [
    {
     "name": "stdout",
     "output_type": "stream",
     "text": [
      "10\n",
      "9\n",
      "8\n",
      "7\n",
      "6\n"
     ]
    }
   ],
   "source": [
    "for i in range(10,5,-1):\n",
    "    print(i)"
   ]
  },
  {
   "cell_type": "code",
   "execution_count": 15,
   "metadata": {},
   "outputs": [],
   "source": [
    "# This code also rums in O(n^3) complexity \n",
    "# The outer while loop runs until i <= j, which means it iterates over all possible pairs of indices (i, j) \n",
    "# where i starts from 0 and goes up to the length of the string, and j starts from the end of the string and \n",
    "# goes down to 0. This results in O(n^2) iterations.\n",
    "\n",
    "def longestPalindrome33(s):\n",
    "    length = len(s)\n",
    "    i = 0\n",
    "    j = length-1\n",
    "    maximum=''\n",
    "    if length==0:\n",
    "        return ''\n",
    "    \n",
    "    while i<=j:\n",
    "        flag=0\n",
    "        if i ==j:\n",
    "            j = length-1\n",
    "            i+=1\n",
    "        if i==length:\n",
    "            break\n",
    "        if s[i]==s[j]:\n",
    "            left = i+1\n",
    "            right= j-1\n",
    "            while left<=right:\n",
    "                if s[left]==s[right]:\n",
    "                    left+=1\n",
    "                    right-=1\n",
    "                    continue\n",
    "                if s[left]!=s[right]:\n",
    "                    flag=1\n",
    "                    break\n",
    "            if flag==0:\n",
    "                current = s[i:j+1]\n",
    "                if len(maximum)<len(current):\n",
    "                    maximum = current\n",
    "        j-=1\n",
    "    \n",
    "    if len(maximum)==0:\n",
    "        return s[0]\n",
    "    else:\n",
    "        return maximum\n",
    "            \n",
    "                \n",
    "            \n",
    "    \n",
    "            "
   ]
  },
  {
   "cell_type": "code",
   "execution_count": 16,
   "metadata": {},
   "outputs": [
    {
     "name": "stdout",
     "output_type": "stream",
     "text": [
      "a\n"
     ]
    }
   ],
   "source": [
    "s = \"a\"\n",
    "print(longestPalindrome33(s))"
   ]
  },
  {
   "cell_type": "code",
   "execution_count": null,
   "metadata": {},
   "outputs": [],
   "source": []
  }
 ],
 "metadata": {
  "kernelspec": {
   "display_name": "Python 3",
   "language": "python",
   "name": "python3"
  },
  "language_info": {
   "codemirror_mode": {
    "name": "ipython",
    "version": 3
   },
   "file_extension": ".py",
   "mimetype": "text/x-python",
   "name": "python",
   "nbconvert_exporter": "python",
   "pygments_lexer": "ipython3",
   "version": "3.8.5"
  }
 },
 "nbformat": 4,
 "nbformat_minor": 4
}
