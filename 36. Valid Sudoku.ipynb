{
 "cells": [
  {
   "cell_type": "code",
   "execution_count": 52,
   "metadata": {},
   "outputs": [],
   "source": [
    "def isValidSudoku(board):\n",
    "    length = len(board)\n",
    "#     columns= [[]]  never use this particular initialization\n",
    "    columns=[[0 for _ in range(length)] for _ in range(length)]\n",
    "\n",
    "    for i in range(length):\n",
    "        for j in range(length):\n",
    "            columns[i][j] =(board[j][i])\n",
    "    \n",
    "    boxes = []\n",
    "\n",
    "    for box_row in range(0, 9, 3):\n",
    "        for box_col in range(0, 9, 3):\n",
    "            box_elements = []\n",
    "\n",
    "            for row in range(box_row, box_row + 3):\n",
    "                for col in range(box_col, box_col + 3):\n",
    "                    box_elements.append(board[row][col])\n",
    "\n",
    "            boxes.append(box_elements)\n",
    "        \n",
    "      \n",
    "    for i in range(length):\n",
    "        for j in range(length):\n",
    "            if board[i][j].isnumeric(): \n",
    "#                 print(f'This is board[i] {board[i]}')\n",
    "#                 print(f'This is count of board[i][j] and count in board[i] {board[i][j]} and {board[i].count(board[i][j])}')\n",
    "                 if board[i].count(board[i][j])!=1:\n",
    "                    return False\n",
    "                \n",
    "          \n",
    "    for i in range(length):\n",
    "        for j in range(length):\n",
    "            if columns[i][j].isnumeric():\n",
    "#                 print(f'This is columns[i] {columns[i]}')\n",
    "#                 print(f'This is count of columns[i][j] and count in columns[i] {columns[i][j]} and {columns[i].count(columns[i][j])}')\n",
    "                 if columns[i].count(columns[i][j])!=1:\n",
    "                    return False\n",
    "        \n",
    "    for i in range(length):\n",
    "        for j in range(length):\n",
    "            if boxes[i][j].isnumeric(): \n",
    "#                 print(f'This is board[i] {board[i]}')\n",
    "#                 print(f'This is count of board[i][j] and count in board[i] {board[i][j]} and {board[i].count(board[i][j])}')\n",
    "                 if boxes[i].count(boxes[i][j])!=1:\n",
    "                    return False\n",
    "    \n",
    "    return True\n"
   ]
  },
  {
   "cell_type": "code",
   "execution_count": 53,
   "metadata": {},
   "outputs": [
    {
     "name": "stdout",
     "output_type": "stream",
     "text": [
      "False\n"
     ]
    }
   ],
   "source": [
    "board = [[\".\",\".\",\".\",\".\",\"5\",\".\",\".\",\"1\",\".\"],\n",
    "         [\".\",\"4\",\".\",\"3\",\".\",\".\",\".\",\".\",\".\"],\n",
    "         [\".\",\".\",\".\",\".\",\".\",\"3\",\".\",\".\",\"1\"],\n",
    "         [\"8\",\".\",\".\",\".\",\".\",\".\",\".\",\"2\",\".\"],\n",
    "         [\".\",\".\",\"2\",\".\",\"7\",\".\",\".\",\".\",\".\"],\n",
    "         [\".\",\"1\",\"5\",\".\",\".\",\".\",\".\",\".\",\".\"],\n",
    "         [\".\",\".\",\".\",\".\",\".\",\"2\",\".\",\".\",\".\"],\n",
    "         [\".\",\"2\",\".\",\"9\",\".\",\".\",\".\",\".\",\".\"],\n",
    "         [\".\",\".\",\"4\",\".\",\".\",\".\",\".\",\".\",\".\"]]\n",
    "\n",
    "print(isValidSudoku(board))"
   ]
  },
  {
   "cell_type": "code",
   "execution_count": null,
   "metadata": {},
   "outputs": [],
   "source": []
  }
 ],
 "metadata": {
  "kernelspec": {
   "display_name": "Python 3",
   "language": "python",
   "name": "python3"
  },
  "language_info": {
   "codemirror_mode": {
    "name": "ipython",
    "version": 3
   },
   "file_extension": ".py",
   "mimetype": "text/x-python",
   "name": "python",
   "nbconvert_exporter": "python",
   "pygments_lexer": "ipython3",
   "version": "3.8.5"
  }
 },
 "nbformat": 4,
 "nbformat_minor": 4
}
