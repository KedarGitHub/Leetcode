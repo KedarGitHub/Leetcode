{
 "cells": [
  {
   "cell_type": "code",
   "execution_count": 15,
   "metadata": {},
   "outputs": [],
   "source": [
    "def partitionString(s):\n",
    "        result = list()\n",
    "        temp = list()\n",
    "        previous=''\n",
    "        for i in (s):\n",
    "            print(f'This is i {i}')\n",
    "            current = i\n",
    "            print(f'This is current {current}')\n",
    "            print(f'This is previous {previous}')\n",
    "            if current == previous:\n",
    "                result.append(''.join(temp))\n",
    "                print(f'This is the result {result}')\n",
    "                temp = list()\n",
    "            else:\n",
    "                if current not in temp:                \n",
    "                    temp.append(current)\n",
    "                    print(f'This is temp {temp}')\n",
    "                else:\n",
    "                    result.append(''.join(temp))\n",
    "            previous= current\n",
    "        return len(result)"
   ]
  },
  {
   "cell_type": "code",
   "execution_count": 17,
   "metadata": {},
   "outputs": [
    {
     "name": "stdout",
     "output_type": "stream",
     "text": [
      "This is i s\n",
      "This is current s\n",
      "This is previous \n",
      "This is temp ['s']\n",
      "This is i s\n",
      "This is current s\n",
      "This is previous s\n",
      "This is the result ['s']\n",
      "This is i s\n",
      "This is current s\n",
      "This is previous s\n",
      "This is the result ['s', '']\n",
      "This is i s\n",
      "This is current s\n",
      "This is previous s\n",
      "This is the result ['s', '', '']\n",
      "This is i s\n",
      "This is current s\n",
      "This is previous s\n",
      "This is the result ['s', '', '', '']\n",
      "This is i s\n",
      "This is current s\n",
      "This is previous s\n",
      "This is the result ['s', '', '', '', '']\n",
      "5\n"
     ]
    }
   ],
   "source": [
    "s = \"ssssss\"\n",
    "print(partitionString(s))"
   ]
  },
  {
   "cell_type": "code",
   "execution_count": null,
   "metadata": {},
   "outputs": [],
   "source": []
  }
 ],
 "metadata": {
  "kernelspec": {
   "display_name": "Python 3",
   "language": "python",
   "name": "python3"
  },
  "language_info": {
   "codemirror_mode": {
    "name": "ipython",
    "version": 3
   },
   "file_extension": ".py",
   "mimetype": "text/x-python",
   "name": "python",
   "nbconvert_exporter": "python",
   "pygments_lexer": "ipython3",
   "version": "3.8.5"
  }
 },
 "nbformat": 4,
 "nbformat_minor": 4
}
