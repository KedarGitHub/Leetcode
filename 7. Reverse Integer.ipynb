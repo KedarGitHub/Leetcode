{
 "cells": [
  {
   "cell_type": "code",
   "execution_count": 22,
   "metadata": {},
   "outputs": [],
   "source": [
    "def reverse(x):\n",
    "    \n",
    "#     if x==0 or x>2147483647 or x< -2147483648:\n",
    "#             return 0\n",
    "#         elif x<0:\n",
    "#             x= int(str(x*(-1))[-1::-1])*(-1)\n",
    "#             val = 0 if x< -2147483648 else x\n",
    "#             return val\n",
    "#         else: \n",
    "#             x= int(str(x)[-1::-1])\n",
    "#             val = 0 if x> 2147483647 else x\n",
    "#             return val\n",
    "    \n",
    "        if x==0 or x>2147483647 or x< -2147483648:\n",
    "            return 0\n",
    "        elif x<0:\n",
    "            x= x*(-1)\n",
    "            str_x = str(x)\n",
    "            new_str_x = str_x[-1::-1]\n",
    "            x= int(new_str_x)*(-1)\n",
    "            val = 0 if x< -2147483648 else x\n",
    "            return val\n",
    "        else:\n",
    "            str_x = str(x)\n",
    "            new_str_x = str_x[-1::-1]\n",
    "            x= int(new_str_x)\n",
    "            val = 0 if x> 2147483647 else x\n",
    "            return val\n",
    "    "
   ]
  },
  {
   "cell_type": "code",
   "execution_count": 23,
   "metadata": {},
   "outputs": [
    {
     "name": "stdout",
     "output_type": "stream",
     "text": [
      "0\n"
     ]
    }
   ],
   "source": [
    "x = 1534236469\n",
    "#  This number after reversing is greater than the 32 bit number\n",
    "print(reverse(x))"
   ]
  },
  {
   "cell_type": "code",
   "execution_count": null,
   "metadata": {},
   "outputs": [],
   "source": []
  }
 ],
 "metadata": {
  "kernelspec": {
   "display_name": "Python 3",
   "language": "python",
   "name": "python3"
  },
  "language_info": {
   "codemirror_mode": {
    "name": "ipython",
    "version": 3
   },
   "file_extension": ".py",
   "mimetype": "text/x-python",
   "name": "python",
   "nbconvert_exporter": "python",
   "pygments_lexer": "ipython3",
   "version": "3.8.5"
  }
 },
 "nbformat": 4,
 "nbformat_minor": 4
}
