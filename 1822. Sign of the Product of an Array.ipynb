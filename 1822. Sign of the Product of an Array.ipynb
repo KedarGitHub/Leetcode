{
 "cells": [
  {
   "cell_type": "code",
   "execution_count": 16,
   "metadata": {},
   "outputs": [],
   "source": [
    "import numpy as np\n",
    "def arraySign(nums):\n",
    "        \"\"\"\n",
    "        :type nums: List[int]\n",
    "        :rtype: int\n",
    "        \"\"\"\n",
    "        # product = np.prod(nums)\n",
    "        # print(product)\n",
    "        # if product==0:\n",
    "        #     return 0\n",
    "        # elif product < 0:\n",
    "        #     return -1\n",
    "        # else:\n",
    "        #     return 1\n",
    "\n",
    "        count=0\n",
    "        if len(nums)==1:\n",
    "            if nums[0]==0:\n",
    "                return 0\n",
    "            elif nums[0]>0:\n",
    "                return 1\n",
    "            else:\n",
    "                return -1\n",
    "                \n",
    "        for i in nums:\n",
    "            if i==0:\n",
    "                count=0\n",
    "                break\n",
    "            if i<0:\n",
    "                count+=1\n",
    "        if count==0:\n",
    "                return 0\n",
    "        elif count%2==0:\n",
    "                return 1\n",
    "        else:\n",
    "                return -1"
   ]
  },
  {
   "cell_type": "code",
   "execution_count": 17,
   "metadata": {},
   "outputs": [
    {
     "name": "stdout",
     "output_type": "stream",
     "text": [
      "-1\n"
     ]
    }
   ],
   "source": [
    "nums = [9,72,34,29,-49,-22,-77,-17,-66,-75,-44,-30,-24]\n",
    "print(arraySign(nums))\n"
   ]
  },
  {
   "cell_type": "code",
   "execution_count": null,
   "metadata": {},
   "outputs": [],
   "source": []
  }
 ],
 "metadata": {
  "kernelspec": {
   "display_name": "Python 3",
   "language": "python",
   "name": "python3"
  },
  "language_info": {
   "codemirror_mode": {
    "name": "ipython",
    "version": 3
   },
   "file_extension": ".py",
   "mimetype": "text/x-python",
   "name": "python",
   "nbconvert_exporter": "python",
   "pygments_lexer": "ipython3",
   "version": "3.8.5"
  }
 },
 "nbformat": 4,
 "nbformat_minor": 4
}
