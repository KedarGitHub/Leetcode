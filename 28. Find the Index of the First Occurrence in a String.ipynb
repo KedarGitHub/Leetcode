{
 "cells": [
  {
   "cell_type": "code",
   "execution_count": 12,
   "metadata": {},
   "outputs": [],
   "source": [
    "def strStr(haystack, needle):\n",
    "        if needle not in haystack:\n",
    "            return -1\n",
    "        else:\n",
    "            length = len(needle)\n",
    "            for i in range(len(haystack)):\n",
    "                print(f'This is i {i}')\n",
    "                if haystack[i]==needle[0]:\n",
    "                    count=0\n",
    "                    for j in range(length):\n",
    "                        print(f'This is j {j}')\n",
    "                        print(f'This is needle[j]: {needle[j]}')\n",
    "                        print(f'This is haystack[i+j] : {haystack[i+j]}')\n",
    "                        if needle[j]!=haystack[i+j]:\n",
    "                            break\n",
    "                        count+=1\n",
    "                    if count==length:\n",
    "                        return i"
   ]
  },
  {
   "cell_type": "code",
   "execution_count": 13,
   "metadata": {},
   "outputs": [
    {
     "name": "stdout",
     "output_type": "stream",
     "text": [
      "This is i 0\n",
      "This is i 1\n",
      "This is j 0\n",
      "This is needle[j]: i\n",
      "This is haystack[i+j] : i\n",
      "This is j 1\n",
      "This is needle[j]: s\n",
      "This is haystack[i+j] : s\n",
      "This is j 2\n",
      "This is needle[j]: s\n",
      "This is haystack[i+j] : s\n",
      "This is j 3\n",
      "This is needle[j]: i\n",
      "This is haystack[i+j] : i\n",
      "This is j 4\n",
      "This is needle[j]: p\n",
      "This is haystack[i+j] : s\n",
      "This is i 2\n",
      "This is i 3\n",
      "This is i 4\n",
      "This is j 0\n",
      "This is needle[j]: i\n",
      "This is haystack[i+j] : i\n",
      "This is j 1\n",
      "This is needle[j]: s\n",
      "This is haystack[i+j] : s\n",
      "This is j 2\n",
      "This is needle[j]: s\n",
      "This is haystack[i+j] : s\n",
      "This is j 3\n",
      "This is needle[j]: i\n",
      "This is haystack[i+j] : i\n",
      "This is j 4\n",
      "This is needle[j]: p\n",
      "This is haystack[i+j] : p\n",
      "4\n"
     ]
    }
   ],
   "source": [
    "haystack = \"mississippi\"\n",
    "needle = \"issip\"\n",
    "print(strStr(haystack, needle))"
   ]
  },
  {
   "cell_type": "code",
   "execution_count": null,
   "metadata": {},
   "outputs": [],
   "source": []
  }
 ],
 "metadata": {
  "kernelspec": {
   "display_name": "Python 3",
   "language": "python",
   "name": "python3"
  },
  "language_info": {
   "codemirror_mode": {
    "name": "ipython",
    "version": 3
   },
   "file_extension": ".py",
   "mimetype": "text/x-python",
   "name": "python",
   "nbconvert_exporter": "python",
   "pygments_lexer": "ipython3",
   "version": "3.8.5"
  }
 },
 "nbformat": 4,
 "nbformat_minor": 4
}
