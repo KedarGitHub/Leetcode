{
 "cells": [
  {
   "cell_type": "code",
   "execution_count": 21,
   "metadata": {},
   "outputs": [],
   "source": [
    "def threeSumClosest(nums,target):\n",
    "        nums.sort()\n",
    "        length = len(nums)\n",
    "        minimum = float('inf')\n",
    "        for i in range(length):\n",
    "            j = i+1\n",
    "            k = length-1\n",
    "            while j<k:\n",
    "                if (nums[i]+nums[j]+nums[k]) == target:\n",
    "                    if abs(target-(nums[i]+nums[j]+nums[k]))< abs(target - minimum):\n",
    "                        minimum = nums[i]+nums[j]+nums[k]\n",
    "                    break\n",
    "                elif (nums[i]+nums[j]+nums[k]) < target:\n",
    "                    if abs(target-(nums[i]+nums[j]+nums[k]))< abs(target - minimum):\n",
    "                        minimum = nums[i]+nums[j]+nums[k]\n",
    "                    j=j+1\n",
    "                elif (nums[i]+nums[j]+nums[k]) > target:\n",
    "                    if abs(target-(nums[i]+nums[j]+nums[k]))<= abs(target - minimum):\n",
    "                        minimum = nums[i]+nums[j]+nums[k]\n",
    "                    k=k-1\n",
    "        return minimum"
   ]
  },
  {
   "cell_type": "code",
   "execution_count": 22,
   "metadata": {},
   "outputs": [
    {
     "name": "stdout",
     "output_type": "stream",
     "text": [
      "2\n"
     ]
    }
   ],
   "source": [
    "nums = [-1,2,1,-4]\n",
    "target = 1\n",
    "print(threeSumClosest(nums,target))"
   ]
  },
  {
   "cell_type": "code",
   "execution_count": null,
   "metadata": {},
   "outputs": [],
   "source": []
  }
 ],
 "metadata": {
  "kernelspec": {
   "display_name": "Python 3",
   "language": "python",
   "name": "python3"
  },
  "language_info": {
   "codemirror_mode": {
    "name": "ipython",
    "version": 3
   },
   "file_extension": ".py",
   "mimetype": "text/x-python",
   "name": "python",
   "nbconvert_exporter": "python",
   "pygments_lexer": "ipython3",
   "version": "3.8.5"
  }
 },
 "nbformat": 4,
 "nbformat_minor": 4
}
