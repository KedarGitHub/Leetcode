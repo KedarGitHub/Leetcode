{
 "cells": [
  {
   "cell_type": "code",
   "execution_count": null,
   "metadata": {},
   "outputs": [],
   "source": [
    "def reverse(head, left, right):\n",
    "    list1 = []\n",
    "        length=0\n",
    "        cur=head\n",
    "\n",
    "        while cur:\n",
    "            length+=1\n",
    "            list1.append(cur.val)\n",
    "            cur=cur.next\n",
    "\n",
    "        left=left-1\n",
    "        right=right-1\n",
    "        while left<right:\n",
    "            temp=list1[left]\n",
    "            list1[left]=list1[right]\n",
    "            list1[right]= temp\n",
    "            left=left+1\n",
    "            right=right-1\n",
    "\n",
    "        cur=head\n",
    "        i=0\n",
    "        while cur:\n",
    "            cur.val=list1[i]\n",
    "            cur=cur.next\n",
    "            i+=1\n",
    "        \n",
    "        return head\n"
   ]
  }
 ],
 "metadata": {
  "kernelspec": {
   "display_name": "Python 3",
   "language": "python",
   "name": "python3"
  },
  "language_info": {
   "codemirror_mode": {
    "name": "ipython",
    "version": 3
   },
   "file_extension": ".py",
   "mimetype": "text/x-python",
   "name": "python",
   "nbconvert_exporter": "python",
   "pygments_lexer": "ipython3",
   "version": "3.8.5"
  }
 },
 "nbformat": 4,
 "nbformat_minor": 4
}
