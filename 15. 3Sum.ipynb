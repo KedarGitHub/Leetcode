{
 "cells": [
  {
   "cell_type": "code",
   "execution_count": 29,
   "metadata": {},
   "outputs": [],
   "source": [
    "#  USing 3 for loops\n",
    "def threeSum1(nums) :\n",
    "    length = len(nums)\n",
    "    nums.sort()\n",
    "    print(nums)\n",
    "    result = []\n",
    "    for i in range(len(nums)):\n",
    "        for j in range(i+1, len(nums)):\n",
    "            for k in range(j+1,len(nums)):\n",
    "                if nums[i]+nums[j] + nums[k]==0:\n",
    "                    if [nums[i],nums[j],nums[k]] not in result:\n",
    "                        result.append([nums[i],nums[j],nums[k]])\n",
    "    return result\n",
    "    "
   ]
  },
  {
   "cell_type": "code",
   "execution_count": 30,
   "metadata": {},
   "outputs": [
    {
     "name": "stdout",
     "output_type": "stream",
     "text": [
      "[-4, -1, -1, 0, 1, 2]\n",
      "[[-1, -1, 2], [-1, 0, 1]]\n"
     ]
    }
   ],
   "source": [
    "nums = [-1,0,1,2,-1,-4]\n",
    "print(threeSum1(nums))"
   ]
  },
  {
   "cell_type": "code",
   "execution_count": 34,
   "metadata": {},
   "outputs": [],
   "source": [
    "# Using two pointers\n",
    "def threeSum(nums) :\n",
    "    length = len(nums)\n",
    "    nums.sort()\n",
    "    result = []\n",
    "    for i in range(len(nums)):\n",
    "        j = i+1\n",
    "        k = length-1\n",
    "        while j<k:\n",
    "            if nums[i]+nums[j] + nums[k]==0:\n",
    "                if [nums[i],nums[j],nums[k]] not in result:\n",
    "                    result.append([nums[i],nums[j],nums[k]])\n",
    "                j=j+1\n",
    "                k=k-1\n",
    "            elif nums[i]+nums[j]+nums[k]<0:\n",
    "                j=j+1\n",
    "            elif nums[i]+nums[j]+nums[k]>0:\n",
    "                k=k-1\n",
    "    return result"
   ]
  },
  {
   "cell_type": "code",
   "execution_count": 35,
   "metadata": {},
   "outputs": [
    {
     "name": "stdout",
     "output_type": "stream",
     "text": [
      "[-4, -1, -1, 0, 1, 2]\n",
      "[[-1, -1, 2], [-1, 0, 1]]\n"
     ]
    }
   ],
   "source": [
    "nums = [-1,0,1,2,-1,-4]\n",
    "print(threeSum(nums))"
   ]
  },
  {
   "cell_type": "code",
   "execution_count": null,
   "metadata": {},
   "outputs": [],
   "source": []
  }
 ],
 "metadata": {
  "kernelspec": {
   "display_name": "Python 3",
   "language": "python",
   "name": "python3"
  },
  "language_info": {
   "codemirror_mode": {
    "name": "ipython",
    "version": 3
   },
   "file_extension": ".py",
   "mimetype": "text/x-python",
   "name": "python",
   "nbconvert_exporter": "python",
   "pygments_lexer": "ipython3",
   "version": "3.8.5"
  }
 },
 "nbformat": 4,
 "nbformat_minor": 4
}
