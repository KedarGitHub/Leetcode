{
 "cells": [
  {
   "cell_type": "code",
   "execution_count": 76,
   "metadata": {},
   "outputs": [],
   "source": [
    "def myAtoi(s):\n",
    "    result=[]\n",
    "    flag=0\n",
    "    new_string = s.strip()\n",
    "    for i,val in enumerate(new_string):\n",
    "        asc = ord(val)\n",
    "        print(f'Value is {val}')\n",
    "        print(f'Length of result is {len(result)}')\n",
    "        if(asc==45) and flag==0 and len(result)==0:\n",
    "            flag=1\n",
    "        elif asc==43 and flag==0 and len(result)==0:\n",
    "            flag=2\n",
    "        elif(asc>=48 and asc<=57):\n",
    "            result.append(val)\n",
    "        else:\n",
    "            break\n",
    "    if len(result)>0:\n",
    "        final = int(''.join(result))\n",
    "        if flag==1:\n",
    "            final= (-1)*final\n",
    "        if final < -2147483648:\n",
    "            return -2147483648\n",
    "        elif final > 2147483647:\n",
    "            return 2147483647\n",
    "        else:\n",
    "            return final\n",
    "    else:\n",
    "        return 0\n",
    "    \n",
    "    "
   ]
  },
  {
   "cell_type": "code",
   "execution_count": 77,
   "metadata": {},
   "outputs": [
    {
     "name": "stdout",
     "output_type": "stream",
     "text": [
      "Value is 0\n",
      "Length of result is 0\n",
      "Value is 0\n",
      "Length of result is 1\n",
      "Value is 0\n",
      "Length of result is 2\n",
      "Value is 0\n",
      "Length of result is 3\n",
      "Value is 0\n",
      "Length of result is 4\n",
      "Value is -\n",
      "Length of result is 5\n",
      "0\n"
     ]
    }
   ],
   "source": [
    "str = \"00000-42a1234\"\n",
    "print(myAtoi(str))"
   ]
  },
  {
   "cell_type": "code",
   "execution_count": 67,
   "metadata": {},
   "outputs": [
    {
     "data": {
      "text/plain": [
       "48"
      ]
     },
     "execution_count": 67,
     "metadata": {},
     "output_type": "execute_result"
    }
   ],
   "source": [
    "ord('0')"
   ]
  },
  {
   "cell_type": "code",
   "execution_count": null,
   "metadata": {},
   "outputs": [],
   "source": []
  }
 ],
 "metadata": {
  "kernelspec": {
   "display_name": "Python 3",
   "language": "python",
   "name": "python3"
  },
  "language_info": {
   "codemirror_mode": {
    "name": "ipython",
    "version": 3
   },
   "file_extension": ".py",
   "mimetype": "text/x-python",
   "name": "python",
   "nbconvert_exporter": "python",
   "pygments_lexer": "ipython3",
   "version": "3.8.5"
  }
 },
 "nbformat": 4,
 "nbformat_minor": 4
}
