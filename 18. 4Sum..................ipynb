{
 "cells": [
  {
   "cell_type": "code",
   "execution_count": 259,
   "metadata": {},
   "outputs": [],
   "source": [
    "from itertools import combinations, combinations_with_replacement\n",
    "def fourSum(nums, target):\n",
    "    result=[]\n",
    "    for i in range(len(nums)):\n",
    "        for j in range(i,len(nums)):\n",
    "            for k in range(j,len(nums)):\n",
    "                for l in range(k,len(nums)):\n",
    "                    if nums[i]+nums[j]+nums[k]+nums[l]==target:\n",
    "                        result.append([i,j,k,l])\n",
    "    return(result)"
   ]
  },
  {
   "cell_type": "code",
   "execution_count": 260,
   "metadata": {},
   "outputs": [
    {
     "name": "stdout",
     "output_type": "stream",
     "text": [
      "This is sum0\n",
      "This is target0\n",
      "This is sum0\n",
      "This is target0\n",
      "This is sum0\n",
      "This is target0\n",
      "[[1, 0, -1, 0], [1, -1, -2, 2], [0, 0, -2, 2]]\n"
     ]
    }
   ],
   "source": [
    "nums =[1,0,-1,0,-2,2]\n",
    "target = 0\n",
    "print(fourSum(nums, target))"
   ]
  },
  {
   "cell_type": "code",
   "execution_count": 183,
   "metadata": {},
   "outputs": [],
   "source": [
    "nums.sort()\n",
    "        return_list = []\n",
    "        combination_list = list(combinations(nums,4))  #generates combinations\n",
    "        #combination_list = list(combinations_with_replacement(nums,4)) # generates permutations\n",
    "    \n",
    "        for combination in combination_list:\n",
    "            if sum(combination)== target:\n",
    "                if  list(combination) not in return_list:\n",
    "                    return_list.append(list(combination))\n",
    "        return(return_list)"
   ]
  },
  {
   "cell_type": "code",
   "execution_count": 205,
   "metadata": {},
   "outputs": [
    {
     "name": "stdout",
     "output_type": "stream",
     "text": [
      "86\n"
     ]
    }
   ],
   "source": []
  },
  {
   "cell_type": "code",
   "execution_count": null,
   "metadata": {},
   "outputs": [],
   "source": []
  }
 ],
 "metadata": {
  "kernelspec": {
   "display_name": "Python 3",
   "language": "python",
   "name": "python3"
  },
  "language_info": {
   "codemirror_mode": {
    "name": "ipython",
    "version": 3
   },
   "file_extension": ".py",
   "mimetype": "text/x-python",
   "name": "python",
   "nbconvert_exporter": "python",
   "pygments_lexer": "ipython3",
   "version": "3.8.5"
  }
 },
 "nbformat": 4,
 "nbformat_minor": 4
}
