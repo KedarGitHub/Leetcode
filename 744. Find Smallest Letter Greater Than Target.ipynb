{
 "cells": [
  {
   "cell_type": "code",
   "execution_count": 51,
   "metadata": {},
   "outputs": [],
   "source": [
    "def nextGreatestLetter(letters,target):\n",
    "#         print(letters)\n",
    "        if target in letters:\n",
    "            if letters[len(letters)-1]==target:\n",
    "                return letters[0]\n",
    "            else:\n",
    "                if letters.count(target)>1:\n",
    "                    reverse = letters[len(letters)-1::-1]\n",
    "                    return reverse[reverse.index(target)-1]\n",
    "                else:    \n",
    "                    return letters[letters.index(target)+1]\n",
    "        elif target not in letters:\n",
    "            if letters[0] > target:\n",
    "                return letters[0]\n",
    "            elif letters[len(letters)-1] < target:\n",
    "                return letters[0]\n",
    "            else:\n",
    "                if target < max(letters[:len(letters)//2]):\n",
    "#                     print('first half')\n",
    "                    return nextGreatestLetter(letters[:len(letters)//2],target)\n",
    "                else:\n",
    "#                     print('Second half')\n",
    "                    return nextGreatestLetter(letters[len(letters)//2:],target)"
   ]
  },
  {
   "cell_type": "code",
   "execution_count": 52,
   "metadata": {},
   "outputs": [
    {
     "name": "stdout",
     "output_type": "stream",
     "text": [
      "['e', 'e', 'e', 'k', 'q', 'q', 'q', 'v', 'v', 'y']\n",
      "first half\n",
      "['e', 'e', 'e', 'k', 'q']\n",
      "Second half\n",
      "['e', 'k', 'q']\n",
      "Second half\n",
      "['k', 'q']\n"
     ]
    },
    {
     "data": {
      "text/plain": [
       "'k'"
      ]
     },
     "execution_count": 52,
     "metadata": {},
     "output_type": "execute_result"
    }
   ],
   "source": [
    "letters = [\"e\",\"e\",\"e\",\"k\",\"q\",\"q\",\"q\",\"v\",\"v\",\"y\"]\n",
    "target = \"f\"\n",
    "nextGreatestLetter(letters,target)"
   ]
  },
  {
   "cell_type": "code",
   "execution_count": 42,
   "metadata": {},
   "outputs": [
    {
     "name": "stdout",
     "output_type": "stream",
     "text": [
      "['y', 'v', 'v', 'q', 'q', 'q', 'k', 'e', 'e', 'e']\n"
     ]
    }
   ],
   "source": [
    "print(letters[len(letters)-1::-1])"
   ]
  },
  {
   "cell_type": "code",
   "execution_count": null,
   "metadata": {},
   "outputs": [],
   "source": []
  }
 ],
 "metadata": {
  "kernelspec": {
   "display_name": "Python 3",
   "language": "python",
   "name": "python3"
  },
  "language_info": {
   "codemirror_mode": {
    "name": "ipython",
    "version": 3
   },
   "file_extension": ".py",
   "mimetype": "text/x-python",
   "name": "python",
   "nbconvert_exporter": "python",
   "pygments_lexer": "ipython3",
   "version": "3.8.5"
  }
 },
 "nbformat": 4,
 "nbformat_minor": 4
}
