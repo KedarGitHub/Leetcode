{
 "cells": [
  {
   "cell_type": "code",
   "execution_count": 1,
   "metadata": {},
   "outputs": [
    {
     "name": "stdout",
     "output_type": "stream",
     "text": [
      "[4, 6]\n"
     ]
    }
   ],
   "source": [
    "def searchRange(nums, target):\n",
    "    start = find_start(nums, target)\n",
    "    if start == -1:\n",
    "        return [-1, -1]\n",
    "    \n",
    "    end = find_end(nums, target)\n",
    "    return [start, end]\n",
    "\n",
    "\n",
    "def find_start(nums, target):\n",
    "    left = 0\n",
    "    right = len(nums) - 1\n",
    "    start = -1\n",
    "    \n",
    "    while left <= right:\n",
    "        mid = (left + right) // 2\n",
    "        \n",
    "        if nums[mid] >= target:\n",
    "            right = mid - 1\n",
    "        else:\n",
    "            left = mid + 1\n",
    "        \n",
    "        if nums[mid] == target:\n",
    "            start = mid\n",
    "    \n",
    "    return start\n",
    "\n",
    "\n",
    "def find_end(nums, target):\n",
    "    left = 0\n",
    "    right = len(nums) - 1\n",
    "    end = -1\n",
    "    \n",
    "    while left <= right:\n",
    "        mid = (left + right) // 2\n",
    "        \n",
    "        if nums[mid] <= target:\n",
    "            left = mid + 1\n",
    "        else:\n",
    "            right = mid - 1\n",
    "        \n",
    "        if nums[mid] == target:\n",
    "            end = mid\n",
    "    \n",
    "    return end\n",
    "\n",
    "# Example usage\n",
    "nums = [1, 2, 2, 3, 4, 4, 4, 5]\n",
    "target = 4\n",
    "\n",
    "range = searchRange(nums, target)\n",
    "print(range)  # Output: [4, 6]"
   ]
  },
  {
   "cell_type": "code",
   "execution_count": null,
   "metadata": {},
   "outputs": [],
   "source": []
  }
 ],
 "metadata": {
  "kernelspec": {
   "display_name": "Python 3",
   "language": "python",
   "name": "python3"
  },
  "language_info": {
   "codemirror_mode": {
    "name": "ipython",
    "version": 3
   },
   "file_extension": ".py",
   "mimetype": "text/x-python",
   "name": "python",
   "nbconvert_exporter": "python",
   "pygments_lexer": "ipython3",
   "version": "3.8.5"
  }
 },
 "nbformat": 4,
 "nbformat_minor": 4
}
