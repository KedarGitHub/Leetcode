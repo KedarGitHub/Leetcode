{
 "cells": [
  {
   "cell_type": "code",
   "execution_count": 13,
   "metadata": {},
   "outputs": [],
   "source": [
    " def nearestValidPoint(x, y, points):\n",
    "        manhattan = float('inf')\n",
    "        index=0\n",
    "        for i, val in enumerate(points):\n",
    "            if val[0]==x or val[1]==y:\n",
    "                distance= abs(x-val[0])+abs(y-val[1])\n",
    "                if distance<manhattan:\n",
    "                    manhattan = distance\n",
    "                    index = i\n",
    "        if manhattan==float('inf'):\n",
    "            return -1\n",
    "        return index\n",
    "        "
   ]
  },
  {
   "cell_type": "code",
   "execution_count": 14,
   "metadata": {},
   "outputs": [
    {
     "name": "stdout",
     "output_type": "stream",
     "text": [
      "2\n"
     ]
    }
   ],
   "source": [
    "x = 3\n",
    "y = 4\n",
    "points = [[1,2],[3,1],[2,4],[2,3],[4,4]]\n",
    "print(nearestValidPoint(x, y, points))"
   ]
  },
  {
   "cell_type": "code",
   "execution_count": null,
   "metadata": {},
   "outputs": [],
   "source": []
  }
 ],
 "metadata": {
  "kernelspec": {
   "display_name": "Python 3",
   "language": "python",
   "name": "python3"
  },
  "language_info": {
   "codemirror_mode": {
    "name": "ipython",
    "version": 3
   },
   "file_extension": ".py",
   "mimetype": "text/x-python",
   "name": "python",
   "nbconvert_exporter": "python",
   "pygments_lexer": "ipython3",
   "version": "3.8.5"
  }
 },
 "nbformat": 4,
 "nbformat_minor": 4
}
