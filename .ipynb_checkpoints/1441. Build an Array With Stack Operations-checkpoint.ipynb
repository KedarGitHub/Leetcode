{
 "cells": [
  {
   "cell_type": "code",
   "execution_count": 16,
   "metadata": {},
   "outputs": [],
   "source": [
    "def buildArray(target, n):\n",
    "        result =[]\n",
    "        stack=[]\n",
    "        length = len(target)\n",
    "        for i in range(1,n+1):\n",
    "            stack.append(i)\n",
    "            result.append(\"Push\")\n",
    "            if i not in target:\n",
    "                stack.pop()\n",
    "                result.append(\"Pop\")\n",
    "            if len(stack)==length:\n",
    "                break\n",
    "                \n",
    "        return result"
   ]
  },
  {
   "cell_type": "code",
   "execution_count": 17,
   "metadata": {},
   "outputs": [
    {
     "name": "stdout",
     "output_type": "stream",
     "text": [
      "[1]\n",
      "[1]\n",
      "1\n",
      "2\n",
      "[1, 2]\n",
      "[1]\n",
      "1\n",
      "2\n",
      "[1, 3]\n",
      "[1, 3]\n",
      "2\n",
      "2\n",
      "3\n",
      "hello\n",
      "['Push', 'Push', 'Pop', 'Push']\n"
     ]
    }
   ],
   "source": [
    "target = [1,3]\n",
    "n = 3\n",
    "print(buildArray(target, n))"
   ]
  },
  {
   "cell_type": "code",
   "execution_count": null,
   "metadata": {},
   "outputs": [],
   "source": []
  }
 ],
 "metadata": {
  "kernelspec": {
   "display_name": "Python 3",
   "language": "python",
   "name": "python3"
  },
  "language_info": {
   "codemirror_mode": {
    "name": "ipython",
    "version": 3
   },
   "file_extension": ".py",
   "mimetype": "text/x-python",
   "name": "python",
   "nbconvert_exporter": "python",
   "pygments_lexer": "ipython3",
   "version": "3.8.5"
  }
 },
 "nbformat": 4,
 "nbformat_minor": 4
}
