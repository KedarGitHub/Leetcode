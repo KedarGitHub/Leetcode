{
 "cells": [
  {
   "cell_type": "code",
   "execution_count": 34,
   "metadata": {},
   "outputs": [],
   "source": [
    "# This is using sorting and complexity is O(nlogn)\n",
    "\n",
    "def longestConsecutive_nlogn(nums):\n",
    "    nums.sort()\n",
    "    print(nums)\n",
    "    length = len(nums)\n",
    "    mydict = {}\n",
    "\n",
    "    counter=0\n",
    "    for i in range(length):\n",
    "        if counter in mydict:\n",
    "            if nums[i] not in mydict[counter]:\n",
    "                mydict[counter]=[nums[i]]\n",
    "        if counter not in mydict:\n",
    "            mydict[counter]=[nums[i]]\n",
    "        if i+1<length:\n",
    "            if (nums[i+1]-nums[i])==1:\n",
    "                mydict[counter].append(nums[i+1])\n",
    "            if (nums[i+1]-nums[i])==0:\n",
    "                continue\n",
    "            if (nums[i+1]-nums[i])!=1:\n",
    "                counter+=1\n",
    "                \n",
    "    max_length = 0\n",
    "    result=[]\n",
    "    for key, val in mydict.items():\n",
    "        list_length = len(val)\n",
    "        if max_length< list_length:\n",
    "            max_length = list_length\n",
    "            result = val\n",
    "        else:\n",
    "            continue\n",
    "    return result, max_length"
   ]
  },
  {
   "cell_type": "code",
   "execution_count": 51,
   "metadata": {},
   "outputs": [],
   "source": [
    "def longestConsecutive_n(nums):\n",
    "        longest = 0\n",
    "        num_set = set(nums)\n",
    "        for n in num_set:\n",
    "            if (n-1) not in num_set:\n",
    "                length = 1\n",
    "                while (n+length) in num_set: # Thsi while runs in constant time because it just checks \n",
    "                    length += 1\n",
    "                longest = max(longest, length)\n",
    "        return longest\n",
    "            \n",
    "    "
   ]
  },
  {
   "cell_type": "code",
   "execution_count": 52,
   "metadata": {},
   "outputs": [
    {
     "name": "stdout",
     "output_type": "stream",
     "text": [
      "4\n"
     ]
    }
   ],
   "source": [
    "nums = [100,4,200,1,3,2]\n",
    "print(longestConsecutive_n(nums))"
   ]
  },
  {
   "cell_type": "code",
   "execution_count": null,
   "metadata": {},
   "outputs": [],
   "source": []
  }
 ],
 "metadata": {
  "kernelspec": {
   "display_name": "Python 3",
   "language": "python",
   "name": "python3"
  },
  "language_info": {
   "codemirror_mode": {
    "name": "ipython",
    "version": 3
   },
   "file_extension": ".py",
   "mimetype": "text/x-python",
   "name": "python",
   "nbconvert_exporter": "python",
   "pygments_lexer": "ipython3",
   "version": "3.8.5"
  }
 },
 "nbformat": 4,
 "nbformat_minor": 4
}
