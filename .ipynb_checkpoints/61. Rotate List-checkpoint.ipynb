{
 "cells": [
  {
   "cell_type": "code",
   "execution_count": null,
   "metadata": {},
   "outputs": [],
   "source": [
    "def rotateRight(self, head: Optional[ListNode], k: int) -> Optional[ListNode]:\n",
    "\n",
    "        if head==None:\n",
    "            return None\n",
    "        if head.next==None:\n",
    "             return head\n",
    "    \n",
    "        tail = head\n",
    "        count=1\n",
    "\n",
    "        while tail.next:\n",
    "            tail= tail.next\n",
    "            count=count+1"
   ]
  },
  {
   "cell_type": "code",
   "execution_count": null,
   "metadata": {},
   "outputs": [],
   "source": [
    "def rotateRight(self, head: Optional[ListNode], k: int) -> Optional[ListNode]:\n",
    "\n",
    "        if head==None:\n",
    "            return None\n",
    "        if head.next==None:\n",
    "             return head\n",
    "    \n",
    "        tail = head\n",
    "        count=1\n",
    "\n",
    "        while tail.next:\n",
    "            tail= tail.next\n",
    "            count=count+1\n",
    "\n",
    "        \n",
    "        k = k%count \n",
    "\n",
    "        l2 = self.reverse_linked(head)\n",
    "        current = l2\n",
    "        next = current.next\n",
    "        tail = l2\n",
    "\n",
    "        count=1\n",
    "\n",
    "        while tail.next:\n",
    "            tail= tail.next\n",
    "            count=count+1        \n",
    "\n",
    "        while k!=0:\n",
    "            tail.next = current\n",
    "            current.next = None\n",
    "            tail = current\n",
    "            current= next\n",
    "            next = next.next\n",
    "            k-=1\n",
    "\n",
    "        l1 = self.reverse_linked(current)\n",
    "        return l1\n",
    "        \n",
    "\n",
    "    def reverse_linked(self, head):\n",
    "        current = head\n",
    "        previous= None\n",
    "        next = current.next\n",
    "        while current:\n",
    "            current.next = previous\n",
    "            previous = current\n",
    "            current= next\n",
    "            if next == None:\n",
    "                break\n",
    "            next = current.next\n",
    "        return previous\n",
    "            "
   ]
  }
 ],
 "metadata": {
  "kernelspec": {
   "display_name": "Python 3",
   "language": "python",
   "name": "python3"
  },
  "language_info": {
   "codemirror_mode": {
    "name": "ipython",
    "version": 3
   },
   "file_extension": ".py",
   "mimetype": "text/x-python",
   "name": "python",
   "nbconvert_exporter": "python",
   "pygments_lexer": "ipython3",
   "version": "3.8.5"
  }
 },
 "nbformat": 4,
 "nbformat_minor": 4
}
