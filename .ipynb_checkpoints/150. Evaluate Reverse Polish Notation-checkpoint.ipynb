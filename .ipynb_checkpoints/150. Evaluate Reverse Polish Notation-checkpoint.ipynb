{
 "cells": [
  {
   "cell_type": "code",
   "execution_count": 13,
   "metadata": {},
   "outputs": [],
   "source": [
    "def evalRPN(tokens):\n",
    "    stack = list()\n",
    "    for char in tokens:\n",
    "        if char=='+' or char =='-' or char == '*' or char=='/':\n",
    "            element2= stack.pop()\n",
    "            element1 = stack.pop()\n",
    "            if char=='+':\n",
    "                stack.append(element1+element2)\n",
    "            elif char=='-':\n",
    "                stack.append(element1-element2)\n",
    "            elif char=='*':\n",
    "                stack.append(element1*element2)\n",
    "            elif char=='/':\n",
    "                stack.append(int(element1/element2))\n",
    "        else:\n",
    "            stack.append(int(char))\n",
    "    return int(stack.pop())    "
   ]
  },
  {
   "cell_type": "code",
   "execution_count": 14,
   "metadata": {},
   "outputs": [
    {
     "name": "stdout",
     "output_type": "stream",
     "text": [
      "22\n"
     ]
    }
   ],
   "source": [
    "tokens = [\"10\",\"6\",\"9\",\"3\",\"+\",\"-11\",\"*\",\"/\",\"*\",\"17\",\"+\",\"5\",\"+\"]\n",
    "print(evalRPN(tokens))"
   ]
  },
  {
   "cell_type": "code",
   "execution_count": null,
   "metadata": {},
   "outputs": [],
   "source": []
  }
 ],
 "metadata": {
  "kernelspec": {
   "display_name": "Python 3",
   "language": "python",
   "name": "python3"
  },
  "language_info": {
   "codemirror_mode": {
    "name": "ipython",
    "version": 3
   },
   "file_extension": ".py",
   "mimetype": "text/x-python",
   "name": "python",
   "nbconvert_exporter": "python",
   "pygments_lexer": "ipython3",
   "version": "3.8.5"
  }
 },
 "nbformat": 4,
 "nbformat_minor": 4
}
