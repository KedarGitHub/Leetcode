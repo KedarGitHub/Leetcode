{
 "cells": [
  {
   "cell_type": "code",
   "execution_count": 55,
   "metadata": {},
   "outputs": [],
   "source": [
    "def containsDuplicate(nums):\n",
    "        \"\"\"\n",
    "        :type nums: List[int]\n",
    "        :rtype: bool\n",
    "        \"\"\"\n",
    "#         BRUTE FORCE 1\n",
    "#         count=0\n",
    "#         for i in range(len(nums)):\n",
    "#             for j in range(i+1,len(nums)):\n",
    "#                 if nums[i]==nums[j]:\n",
    "#                     count+=1\n",
    "#             if(count!=0):\n",
    "#                 return True\n",
    "#         return False\n",
    "\n",
    "\n",
    "\n",
    "#         BRUTE FORCE 2\n",
    "#         for i in range(len(nums)):\n",
    "#             if nums.count(nums[i])>1: # Count it's occurance in the list\n",
    "#                 return True\n",
    "#         return False\n",
    "        \n",
    "\n",
    "# - Time complexity:\n",
    "#The dominant factor in terms of time complexity is the sorting step, resulting in a time complexity of O(N log N).\n",
    "\n",
    "#- Space complexity:\n",
    "# The code does not use any additional data structures apart from the input list itself. \n",
    "# The space complexity is therefore O(1), as it only requires a constant amount of space for the loop variables and \n",
    "# the temporary variables used within the loop. It uses a space of 23 MB.\n",
    "    \n",
    "#     Using sort:\n",
    "        nums.sort()\n",
    "        limit = (len(nums))\n",
    "        for i in range(limit):\n",
    "            if i+1 > limit-1:\n",
    "                return False\n",
    "            if nums[i]==nums[i+1]:\n",
    "                return True\n",
    "        return False\n",
    "\n"
   ]
  },
  {
   "cell_type": "code",
   "execution_count": 56,
   "metadata": {},
   "outputs": [
    {
     "data": {
      "text/plain": [
       "False"
      ]
     },
     "execution_count": 56,
     "metadata": {},
     "output_type": "execute_result"
    }
   ],
   "source": [
    "containsDuplicate([1,2,3,4,9,5,6,7,10])"
   ]
  },
  {
   "cell_type": "code",
   "execution_count": null,
   "metadata": {},
   "outputs": [],
   "source": []
  }
 ],
 "metadata": {
  "kernelspec": {
   "display_name": "Python 3",
   "language": "python",
   "name": "python3"
  },
  "language_info": {
   "codemirror_mode": {
    "name": "ipython",
    "version": 3
   },
   "file_extension": ".py",
   "mimetype": "text/x-python",
   "name": "python",
   "nbconvert_exporter": "python",
   "pygments_lexer": "ipython3",
   "version": "3.8.5"
  }
 },
 "nbformat": 4,
 "nbformat_minor": 4
}
