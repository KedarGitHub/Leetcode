{
 "cells": [
  {
   "cell_type": "markdown",
   "metadata": {},
   "source": [
    "Correct Solution but time linit exceeded"
   ]
  },
  {
   "cell_type": "code",
   "execution_count": 13,
   "metadata": {},
   "outputs": [],
   "source": [
    "def complete_circuit(gas, cost, i, length):\n",
    "    tank =0\n",
    "    count=1\n",
    "    while count<= length: \n",
    "        tank = tank + gas[i]- cost[i]\n",
    "        i+=1\n",
    "        count+=1\n",
    "        if tank <0:\n",
    "            return False\n",
    "        else:\n",
    "            if i== length:\n",
    "                i=0           \n",
    "    return True"
   ]
  },
  {
   "cell_type": "code",
   "execution_count": 14,
   "metadata": {},
   "outputs": [],
   "source": [
    "def canCompleteCircuit(gas, cost):\n",
    "    length = len(gas)\n",
    "    \n",
    "    for i in range(length):\n",
    "        if complete_circuit(gas, cost, i, length):\n",
    "            return i\n",
    "    return -1"
   ]
  },
  {
   "cell_type": "code",
   "execution_count": 15,
   "metadata": {},
   "outputs": [
    {
     "name": "stdout",
     "output_type": "stream",
     "text": [
      "-1\n"
     ]
    }
   ],
   "source": [
    "gas = [2,3,4]\n",
    "cost = [3,4,3]\n",
    "print(canCompleteCircuit(gas, cost))"
   ]
  },
  {
   "cell_type": "code",
   "execution_count": null,
   "metadata": {},
   "outputs": [],
   "source": [
    "def canCompleteCircuit(self, gas: List[int], cost: List[int]) -> int:\n",
    "        deficit=balance=start=0\n",
    "        n=len(gas)\n",
    "        for i in range(n):\n",
    "            balance+=gas[i]-cost[i]\n",
    "            if balance<0:\n",
    "                deficit+=balance #Each time the deficit is added that means the previous track is kept\n",
    "                start=i+1\n",
    "                balance=0\n",
    "        if deficit+balance>=0:\n",
    "            return start\n",
    "        return -1   "
   ]
  }
 ],
 "metadata": {
  "kernelspec": {
   "display_name": "Python 3",
   "language": "python",
   "name": "python3"
  },
  "language_info": {
   "codemirror_mode": {
    "name": "ipython",
    "version": 3
   },
   "file_extension": ".py",
   "mimetype": "text/x-python",
   "name": "python",
   "nbconvert_exporter": "python",
   "pygments_lexer": "ipython3",
   "version": "3.8.5"
  }
 },
 "nbformat": 4,
 "nbformat_minor": 4
}
