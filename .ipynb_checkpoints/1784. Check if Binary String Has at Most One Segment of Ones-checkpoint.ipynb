{
 "cells": [
  {
   "cell_type": "code",
   "execution_count": 46,
   "metadata": {},
   "outputs": [],
   "source": [
    "def checkOnesSegment(s):\n",
    "#     has_dict={}\n",
    "#     for i,char in enumerate(s):\n",
    "#         if char=='1':\n",
    "#             if char not in has_dict:\n",
    "#                 has_dict[char]= [i]\n",
    "#             else:\n",
    "#                 has_dict[char].append(i)\n",
    "    \n",
    "#     list_one = has_dict['1']\n",
    "    \n",
    "#     print(list_one)\n",
    "    \n",
    "#     if len(list_one)==1:\n",
    "#         return True\n",
    "    \n",
    "#     flag=[]\n",
    "#     count=0\n",
    "#     for index, value in enumerate(list_one):\n",
    "#         if index==len(list_one)-1:\n",
    "#             if count==1:\n",
    "#                 if count not in flag:  \n",
    "#                     flag.append(count)\n",
    "#                     count=0\n",
    "#             break\n",
    "#         if (value+1)==list_one[index+1]:\n",
    "#             count=1\n",
    "#             if count in flag:\n",
    "#                 return False\n",
    "#             continue\n",
    "#         if (value+1)!=list_one[index+1]:\n",
    "#             if count==1:\n",
    "#                 if count not in flag:  \n",
    "#                     flag.append(count)\n",
    "#                     count=0\n",
    "#     if len(flag)==1:\n",
    "#           return True\n",
    "#     return False\n",
    "\n",
    "    return '01' not in s"
   ]
  },
  {
   "cell_type": "code",
   "execution_count": 47,
   "metadata": {},
   "outputs": [
    {
     "name": "stdout",
     "output_type": "stream",
     "text": [
      "False\n"
     ]
    }
   ],
   "source": [
    "s = \"10110000\"\n",
    "print(checkOnesSegment(s))"
   ]
  },
  {
   "cell_type": "code",
   "execution_count": null,
   "metadata": {},
   "outputs": [],
   "source": []
  }
 ],
 "metadata": {
  "kernelspec": {
   "display_name": "Python 3",
   "language": "python",
   "name": "python3"
  },
  "language_info": {
   "codemirror_mode": {
    "name": "ipython",
    "version": 3
   },
   "file_extension": ".py",
   "mimetype": "text/x-python",
   "name": "python",
   "nbconvert_exporter": "python",
   "pygments_lexer": "ipython3",
   "version": "3.8.5"
  }
 },
 "nbformat": 4,
 "nbformat_minor": 4
}
