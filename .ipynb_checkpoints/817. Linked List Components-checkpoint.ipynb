{
 "cells": [
  {
   "cell_type": "code",
   "execution_count": null,
   "metadata": {},
   "outputs": [],
   "source": [
    "def numComponents(self, head: Optional[ListNode], nums: List[int]) -> int:\n",
    "        cur= head\n",
    "        flag=0\n",
    "        count=0\n",
    "        while cur:\n",
    "            next1 = cur.next\n",
    "            if cur.val in nums:\n",
    "                if next1:\n",
    "                    if next1.val in nums:    \n",
    "                        if flag==0:\n",
    "                            flag=1\n",
    "                            count= count+1\n",
    "                    else:\n",
    "                        if flag==0:\n",
    "                            count=count+1\n",
    "                        else:\n",
    "                            flag=0\n",
    "                else:\n",
    "                    if flag==0:\n",
    "                        flag=1\n",
    "                        count = count+1\n",
    "            cur = next1\n",
    "        return count"
   ]
  }
 ],
 "metadata": {
  "kernelspec": {
   "display_name": "Python 3",
   "language": "python",
   "name": "python3"
  },
  "language_info": {
   "codemirror_mode": {
    "name": "ipython",
    "version": 3
   },
   "file_extension": ".py",
   "mimetype": "text/x-python",
   "name": "python",
   "nbconvert_exporter": "python",
   "pygments_lexer": "ipython3",
   "version": "3.8.5"
  }
 },
 "nbformat": 4,
 "nbformat_minor": 4
}
