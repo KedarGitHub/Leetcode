{
 "cells": [
  {
   "cell_type": "markdown",
   "metadata": {},
   "source": [
    "**118. Pascal's Triangle**\n"
   ]
  },
  {
   "cell_type": "code",
   "execution_count": 27,
   "metadata": {},
   "outputs": [],
   "source": [
    "def generate(numRows):\n",
    "    result = []\n",
    "    for i in range(numRows):\n",
    "        temp_list = []\n",
    "        for j in range(i+1):\n",
    "            if j==0:\n",
    "                temp_list.append(1)\n",
    "            \n",
    "            elif j==i:\n",
    "                temp_list.append(1)\n",
    "                \n",
    "            else:\n",
    "                temp = prev[j] + prev[j-1]\n",
    "                temp_list.append(temp)\n",
    "        prev = temp_list\n",
    "        result.append(temp_list)\n",
    "    return result       \n",
    "    "
   ]
  },
  {
   "cell_type": "code",
   "execution_count": 31,
   "metadata": {},
   "outputs": [
    {
     "name": "stdout",
     "output_type": "stream",
     "text": [
      "[[1], [1, 1], [1, 2, 1]]\n"
     ]
    }
   ],
   "source": [
    "numRows= 3\n",
    "print(generate(numRows))"
   ]
  },
  {
   "cell_type": "markdown",
   "metadata": {},
   "source": [
    "**119. Pascal's Triangle II**"
   ]
  },
  {
   "cell_type": "code",
   "execution_count": 34,
   "metadata": {},
   "outputs": [],
   "source": [
    " def getRow(rowIndex):\n",
    "    result = []\n",
    "    for i in range(rowIndex+1):\n",
    "        temp_list = []\n",
    "        for j in range(i+1):\n",
    "            if j==0:\n",
    "                temp_list.append(1)\n",
    "            \n",
    "            elif j==i:\n",
    "                temp_list.append(1)\n",
    "                \n",
    "            else:\n",
    "                temp = prev[j] + prev[j-1]\n",
    "                temp_list.append(temp)\n",
    "        prev = temp_list\n",
    "        result.append(temp_list)\n",
    "    return result[rowIndex]  \n",
    "        \n",
    "        "
   ]
  },
  {
   "cell_type": "code",
   "execution_count": 35,
   "metadata": {},
   "outputs": [
    {
     "name": "stdout",
     "output_type": "stream",
     "text": [
      "[1, 3, 3, 1]\n"
     ]
    }
   ],
   "source": [
    "rowIndex= 3\n",
    "print(getRow(rowIndex))"
   ]
  },
  {
   "cell_type": "code",
   "execution_count": null,
   "metadata": {},
   "outputs": [],
   "source": []
  }
 ],
 "metadata": {
  "kernelspec": {
   "display_name": "Python 3",
   "language": "python",
   "name": "python3"
  },
  "language_info": {
   "codemirror_mode": {
    "name": "ipython",
    "version": 3
   },
   "file_extension": ".py",
   "mimetype": "text/x-python",
   "name": "python",
   "nbconvert_exporter": "python",
   "pygments_lexer": "ipython3",
   "version": "3.8.5"
  }
 },
 "nbformat": 4,
 "nbformat_minor": 4
}
