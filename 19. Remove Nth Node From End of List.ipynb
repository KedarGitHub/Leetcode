{
 "cells": [
  {
   "cell_type": "code",
   "execution_count": null,
   "metadata": {},
   "outputs": [],
   "source": [
    "class Solution:\n",
    "    def removeNthFromEnd(self, head: Optional[ListNode], n: int) -> Optional[ListNode]:\n",
    "        prev = None\n",
    "        next = None\n",
    "        current= head\n",
    "        l_list = head\n",
    "\n",
    "        current_track = head\n",
    "        length=0\n",
    "        while current_track:\n",
    "            length+=1\n",
    "            current_track = current_track.next\n",
    "\n",
    "        index = 0\n",
    "        n=length-n\n",
    "        while current:\n",
    "                next = current.next\n",
    "                if index == n:\n",
    "                    if prev:\n",
    "                        if next:\n",
    "                            prev.next = next\n",
    "                        else:\n",
    "                            prev.next = None\n",
    "                        break\n",
    "                    else:\n",
    "                        if next:\n",
    "                            l_list = next\n",
    "                        else:\n",
    "                            return None\n",
    "                prev = current\n",
    "                current = next\n",
    "                index+=1\n",
    "        return l_list"
   ]
  }
 ],
 "metadata": {
  "kernelspec": {
   "display_name": "Python 3",
   "language": "python",
   "name": "python3"
  },
  "language_info": {
   "codemirror_mode": {
    "name": "ipython",
    "version": 3
   },
   "file_extension": ".py",
   "mimetype": "text/x-python",
   "name": "python",
   "nbconvert_exporter": "python",
   "pygments_lexer": "ipython3",
   "version": "3.8.5"
  }
 },
 "nbformat": 4,
 "nbformat_minor": 4
}
