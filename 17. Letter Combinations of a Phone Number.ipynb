{
 "cells": [
  {
   "cell_type": "code",
   "execution_count": 18,
   "metadata": {},
   "outputs": [],
   "source": [
    "def letterCombinations(digits):\n",
    "    my_dict = {'2':\"abc\", '3':\"def\",'4':\"ghi\",'5':\"jkl\", '6':\"mno\",'7':\"pqrs\", '8':\"tuv\", '9':\"wxyz\"}\n",
    "    length = len(digits)\n",
    "    array = []\n",
    "    if length==1:\n",
    "        return list(my_dict[digits])\n",
    "    elif length == 2 :\n",
    "        temp = [x for x in digits]\n",
    "        for i,val1 in enumerate(my_dict[temp[0]]):\n",
    "            for j,val2 in enumerate(my_dict[temp[1]]):\n",
    "                array.append(val1+val2)\n",
    "        return array\n",
    "    elif length == 3 :\n",
    "        temp = [x for x in digits]\n",
    "        for i,val1 in enumerate(my_dict[temp[0]]):\n",
    "            for j,val2 in enumerate(my_dict[temp[1]]):\n",
    "                for k,val3 in enumerate(my_dict[temp[2]]):\n",
    "                    array.append(val1+val2+val3)\n",
    "        return array\n",
    "    elif length == 4 :\n",
    "        temp = [x for x in digits]\n",
    "        for i,val1 in enumerate(my_dict[temp[0]]):\n",
    "            for j,val2 in enumerate(my_dict[temp[1]]):\n",
    "                for k,val3 in enumerate(my_dict[temp[2]]):\n",
    "                    for k,val4 in enumerate(my_dict[temp[3]]):\n",
    "                        array.append(val1+val2+val3+val4)\n",
    "        return array\n",
    "#     for i,val in enumerate(digits):\n",
    "        \n",
    "    \n",
    "    "
   ]
  },
  {
   "cell_type": "code",
   "execution_count": 21,
   "metadata": {},
   "outputs": [
    {
     "name": "stdout",
     "output_type": "stream",
     "text": [
      "['add', 'add', 'add', 'ade', 'ade', 'ade', 'adf', 'adf', 'adf', 'aed', 'aed', 'aed', 'aee', 'aee', 'aee', 'aef', 'aef', 'aef', 'afd', 'afd', 'afd', 'afe', 'afe', 'afe', 'aff', 'aff', 'aff', 'bdd', 'bdd', 'bdd', 'bde', 'bde', 'bde', 'bdf', 'bdf', 'bdf', 'bed', 'bed', 'bed', 'bee', 'bee', 'bee', 'bef', 'bef', 'bef', 'bfd', 'bfd', 'bfd', 'bfe', 'bfe', 'bfe', 'bff', 'bff', 'bff', 'cdd', 'cdd', 'cdd', 'cde', 'cde', 'cde', 'cdf', 'cdf', 'cdf', 'ced', 'ced', 'ced', 'cee', 'cee', 'cee', 'cef', 'cef', 'cef', 'cfd', 'cfd', 'cfd', 'cfe', 'cfe', 'cfe', 'cff', 'cff', 'cff']\n"
     ]
    }
   ],
   "source": [
    "digits = \"2334\"\n",
    "print(letterCombinations(digits))"
   ]
  },
  {
   "cell_type": "code",
   "execution_count": null,
   "metadata": {},
   "outputs": [],
   "source": []
  }
 ],
 "metadata": {
  "kernelspec": {
   "display_name": "Python 3",
   "language": "python",
   "name": "python3"
  },
  "language_info": {
   "codemirror_mode": {
    "name": "ipython",
    "version": 3
   },
   "file_extension": ".py",
   "mimetype": "text/x-python",
   "name": "python",
   "nbconvert_exporter": "python",
   "pygments_lexer": "ipython3",
   "version": "3.8.5"
  }
 },
 "nbformat": 4,
 "nbformat_minor": 4
}
