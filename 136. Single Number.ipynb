{
 "cells": [
  {
   "cell_type": "code",
   "execution_count": 9,
   "metadata": {},
   "outputs": [],
   "source": [
    "def singleNumber(nums):\n",
    "#         new = set(nums)\n",
    "        \n",
    "#         for val in new:\n",
    "#             if nums.count(val)==1:\n",
    "#                 return val\n",
    "        new = dict()\n",
    "        \n",
    "        for i, val in enumerate(nums):\n",
    "            if val not in new:\n",
    "                new[val] = True\n",
    "            elif val in new:\n",
    "                new[val] = False\n",
    "        \n",
    "        for key, value in new.items():\n",
    "            if value==True:\n",
    "                return key\n",
    "        \n",
    "    "
   ]
  },
  {
   "cell_type": "code",
   "execution_count": 10,
   "metadata": {},
   "outputs": [
    {
     "name": "stdout",
     "output_type": "stream",
     "text": [
      "1\n"
     ]
    }
   ],
   "source": [
    "nums = [2,2,1]\n",
    "print(singleNumber(nums))"
   ]
  },
  {
   "cell_type": "code",
   "execution_count": null,
   "metadata": {},
   "outputs": [],
   "source": []
  }
 ],
 "metadata": {
  "kernelspec": {
   "display_name": "Python 3",
   "language": "python",
   "name": "python3"
  },
  "language_info": {
   "codemirror_mode": {
    "name": "ipython",
    "version": 3
   },
   "file_extension": ".py",
   "mimetype": "text/x-python",
   "name": "python",
   "nbconvert_exporter": "python",
   "pygments_lexer": "ipython3",
   "version": "3.8.5"
  }
 },
 "nbformat": 4,
 "nbformat_minor": 4
}
