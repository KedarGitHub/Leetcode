{
 "cells": [
  {
   "cell_type": "code",
   "execution_count": 17,
   "metadata": {},
   "outputs": [],
   "source": [
    "def isPalindrome(x) :\n",
    "        pal_list=list()\n",
    "        try:\n",
    "            if(x<0):\n",
    "                return False\n",
    "            elif(x//10)==0:\n",
    "                return True\n",
    "            else:\n",
    "                while(x>0):\n",
    "                    pal_list.append(x%10)\n",
    "                    x=x//10\n",
    "            flag=0\n",
    "            iterate= (len(pal_list)//2)+1\n",
    "            j=len(pal_list)-1\n",
    "            for i in range(iterate):\n",
    "                if(pal_list[i]!=pal_list[j]):\n",
    "                    flag=1\n",
    "                j-=1\n",
    "            if(flag==0):\n",
    "                return True\n",
    "            else:\n",
    "                return False\n",
    "        except TypeError as e:\n",
    "            print(f'This is a typeError {e}')\n",
    "\n"
   ]
  },
  {
   "cell_type": "code",
   "execution_count": 18,
   "metadata": {},
   "outputs": [
    {
     "name": "stdout",
     "output_type": "stream",
     "text": [
      "True\n"
     ]
    }
   ],
   "source": [
    "x = 121\n",
    "print(isPalindrome(x))"
   ]
  },
  {
   "cell_type": "code",
   "execution_count": 16,
   "metadata": {},
   "outputs": [
    {
     "name": "stdout",
     "output_type": "stream",
     "text": [
      "True\n"
     ]
    }
   ],
   "source": [
    "def pali(x):\n",
    "#     if x<0:\n",
    "#         return False\n",
    "    list1 = str(x)\n",
    "\n",
    "    length = len(list1)\n",
    "    left =0\n",
    "    right= length -1\n",
    "\n",
    "    while left< right:\n",
    "        if list1[left]!=list1[right]:\n",
    "            return False\n",
    "        left+=1\n",
    "        right-=1\n",
    "    return True\n",
    "        \n",
    "x = 121\n",
    "print(pali(x))     \n",
    "    "
   ]
  },
  {
   "cell_type": "code",
   "execution_count": null,
   "metadata": {},
   "outputs": [],
   "source": []
  }
 ],
 "metadata": {
  "kernelspec": {
   "display_name": "Python 3",
   "language": "python",
   "name": "python3"
  },
  "language_info": {
   "codemirror_mode": {
    "name": "ipython",
    "version": 3
   },
   "file_extension": ".py",
   "mimetype": "text/x-python",
   "name": "python",
   "nbconvert_exporter": "python",
   "pygments_lexer": "ipython3",
   "version": "3.8.5"
  }
 },
 "nbformat": 4,
 "nbformat_minor": 4
}
