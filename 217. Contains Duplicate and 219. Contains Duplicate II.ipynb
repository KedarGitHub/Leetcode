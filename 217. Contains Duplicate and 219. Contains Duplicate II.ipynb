{
 "cells": [
  {
   "cell_type": "markdown",
   "metadata": {},
   "source": [
    "**217. Contains Duplicate**"
   ]
  },
  {
   "cell_type": "code",
   "execution_count": 53,
   "metadata": {},
   "outputs": [],
   "source": [
    "def containsDuplicate(nums):\n",
    "        # Using sort()\n",
    "#         nums.sort()\n",
    "#         limit = (len(nums))\n",
    "#         for i in range(limit):\n",
    "#             if i+1 > limit-1:\n",
    "#                 return False\n",
    "#             if nums[i]==nums[i+1]:\n",
    "#                 return True\n",
    "#         return False\n",
    "    \n",
    "    new_dict = {}\n",
    "    \n",
    "    for i, val in enumerate(nums):\n",
    "        if val not in new_dict:\n",
    "            new_dict[val] = [i]\n",
    "        else:\n",
    "            return True\n",
    "    return False"
   ]
  },
  {
   "cell_type": "code",
   "execution_count": 54,
   "metadata": {},
   "outputs": [
    {
     "name": "stdout",
     "output_type": "stream",
     "text": [
      "True\n"
     ]
    }
   ],
   "source": [
    "print(containsDuplicate([1,0,1,1]))"
   ]
  },
  {
   "cell_type": "markdown",
   "metadata": {},
   "source": [
    "**219. Contains Duplicate II**\n"
   ]
  },
  {
   "cell_type": "code",
   "execution_count": 59,
   "metadata": {},
   "outputs": [],
   "source": [
    "def containsNearbyDuplicate(nums, k):\n",
    "        new_dictionary = {}\n",
    "        for i, val in enumerate(nums):\n",
    "            if val not in new_dictionary:\n",
    "                new_dictionary[val] = [i]\n",
    "            else:\n",
    "                new_dictionary[val].append(i)\n",
    "                \n",
    "        index_vals =[]\n",
    "        \n",
    "        for key, value in new_dictionary.items():\n",
    "            length = len(value)\n",
    "            if length>1:\n",
    "                min_diff = value[length-1]-value[0]\n",
    "                for i in range(length):\n",
    "                    if i== length-1:\n",
    "                        break\n",
    "                    diff = value[i+1]- value[i]\n",
    "                    if diff < min_diff:\n",
    "                        min_diff = diff\n",
    "                    if (i + 1) == length:\n",
    "                        break\n",
    "                        \n",
    "                if (min_diff) <= k:\n",
    "                    # if diff not in index_vals:\n",
    "                    #     index_vals.append(diff)\n",
    "                    # else:\n",
    "                    return True\n",
    "        # if len(index_vals)!=0:\n",
    "        #     return True\n",
    "        return False"
   ]
  },
  {
   "cell_type": "code",
   "execution_count": 60,
   "metadata": {},
   "outputs": [
    {
     "name": "stdout",
     "output_type": "stream",
     "text": [
      "True\n"
     ]
    }
   ],
   "source": [
    "print(containsNearbyDuplicate([1, 0, 1, 1], 1))"
   ]
  },
  {
   "cell_type": "code",
   "execution_count": null,
   "metadata": {},
   "outputs": [],
   "source": []
  }
 ],
 "metadata": {
  "kernelspec": {
   "display_name": "Python 3",
   "language": "python",
   "name": "python3"
  },
  "language_info": {
   "codemirror_mode": {
    "name": "ipython",
    "version": 3
   },
   "file_extension": ".py",
   "mimetype": "text/x-python",
   "name": "python",
   "nbconvert_exporter": "python",
   "pygments_lexer": "ipython3",
   "version": "3.8.5"
  }
 },
 "nbformat": 4,
 "nbformat_minor": 4
}
