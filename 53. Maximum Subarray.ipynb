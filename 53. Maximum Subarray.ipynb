{
 "cells": [
  {
   "cell_type": "code",
   "execution_count": 16,
   "metadata": {},
   "outputs": [],
   "source": [
    "def maxSubArray(nums):\n",
    "    length = len(nums)\n",
    "    maximum =-10000\n",
    "#     max_index1, max_index2=0,0\n",
    "    if length==0:\n",
    "        return None\n",
    "#     elif length==1:\n",
    "#         return nums[0]\n",
    "    else:\n",
    "        for index_outside in range(length):\n",
    "            summation= nums[index_outside]\n",
    "            if maximum< summation :\n",
    "                maximum = summation\n",
    "            for index_inside in range(index_outside+1, length):\n",
    "                summation = summation + nums[index_inside]\n",
    "                if maximum< summation :\n",
    "                    maximum = summation\n",
    "#                     max_index_1 = index_outside\n",
    "#                     max_index_2 = index_inside\n",
    "            if maximum< summation :\n",
    "                maximum = summation\n",
    "        return maximum\n",
    "        \n",
    "        "
   ]
  },
  {
   "cell_type": "code",
   "execution_count": 17,
   "metadata": {},
   "outputs": [
    {
     "name": "stdout",
     "output_type": "stream",
     "text": [
      "-1\n"
     ]
    }
   ],
   "source": [
    "nums = [-2,-1]\n",
    "print(maxSubArray(nums))"
   ]
  },
  {
   "cell_type": "code",
   "execution_count": null,
   "metadata": {},
   "outputs": [],
   "source": []
  }
 ],
 "metadata": {
  "kernelspec": {
   "display_name": "Python 3",
   "language": "python",
   "name": "python3"
  },
  "language_info": {
   "codemirror_mode": {
    "name": "ipython",
    "version": 3
   },
   "file_extension": ".py",
   "mimetype": "text/x-python",
   "name": "python",
   "nbconvert_exporter": "python",
   "pygments_lexer": "ipython3",
   "version": "3.8.5"
  }
 },
 "nbformat": 4,
 "nbformat_minor": 4
}
