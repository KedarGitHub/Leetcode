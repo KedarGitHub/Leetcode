{
 "cells": [
  {
   "cell_type": "code",
   "execution_count": 11,
   "metadata": {},
   "outputs": [],
   "source": [
    "def generateMatrix(n):\n",
    "    matrix = [[0 for x in range(n)] for i in range(n)]\n",
    "    num_elements = n * n\n",
    "    current_num = 1\n",
    "\n",
    "    # Define the boundaries of the spiral\n",
    "    top, bottom, left, right = 0, n - 1, 0, n - 1\n",
    "\n",
    "    while current_num <= num_elements:\n",
    "        # Traverse from left to right along the top row\n",
    "        for i in range(left, right + 1):\n",
    "            matrix[top][i] = current_num\n",
    "            current_num += 1\n",
    "        top += 1\n",
    "\n",
    "        # Traverse from top to bottom along the rightmost column\n",
    "        for i in range(top, bottom + 1):\n",
    "            matrix[i][right] = current_num\n",
    "            current_num += 1\n",
    "        right -= 1\n",
    "\n",
    "        # Traverse from right to left along the bottom row\n",
    "        for i in range(right, left - 1, -1):\n",
    "            matrix[bottom][i] = current_num\n",
    "            current_num += 1\n",
    "        bottom -= 1\n",
    "\n",
    "        # Traverse from bottom to top along the leftmost column\n",
    "        for i in range(bottom, top - 1, -1):\n",
    "            matrix[i][left] = current_num\n",
    "            current_num += 1\n",
    "        left += 1\n",
    "\n",
    "    return matrix\n"
   ]
  },
  {
   "cell_type": "code",
   "execution_count": 12,
   "metadata": {},
   "outputs": [
    {
     "name": "stdout",
     "output_type": "stream",
     "text": [
      "[[1, 2, 3], [8, 9, 4], [7, 6, 5]]\n"
     ]
    }
   ],
   "source": [
    "n = 3\n",
    "print(generateMatrix(n))"
   ]
  },
  {
   "cell_type": "code",
   "execution_count": null,
   "metadata": {},
   "outputs": [],
   "source": []
  }
 ],
 "metadata": {
  "kernelspec": {
   "display_name": "Python 3",
   "language": "python",
   "name": "python3"
  },
  "language_info": {
   "codemirror_mode": {
    "name": "ipython",
    "version": 3
   },
   "file_extension": ".py",
   "mimetype": "text/x-python",
   "name": "python",
   "nbconvert_exporter": "python",
   "pygments_lexer": "ipython3",
   "version": "3.8.5"
  }
 },
 "nbformat": 4,
 "nbformat_minor": 4
}
