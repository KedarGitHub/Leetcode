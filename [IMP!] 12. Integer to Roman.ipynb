{
 "cells": [
  {
   "cell_type": "code",
   "execution_count": 53,
   "metadata": {},
   "outputs": [],
   "source": [
    "def intToRoman(num):\n",
    "    result = []\n",
    "    length = 0\n",
    "    final= ''.join(recurse(num, length, result))\n",
    "    return (final)\n",
    "    \n",
    "def recurse(num, length, result):\n",
    "    x = [int(x) for x in str(num)]\n",
    "    print(x)\n",
    "    length = len(x)\n",
    "    if length > 3:\n",
    "        quo3 = num//1000\n",
    "        rem3 = num % 1000\n",
    "        result.append(quo3*'M')\n",
    "#         print(quo3)\n",
    "#         print(rem3)\n",
    "#         print(result)\n",
    "        return recurse(rem3, length, result)\n",
    "    elif length ==3:\n",
    "        quo2 = num//100\n",
    "        rem2 = num % 100\n",
    "        if quo2==4:\n",
    "            result.append('CD')\n",
    "        elif quo2==9:\n",
    "            result.append('CM')\n",
    "        elif quo2==5:\n",
    "            result.append('D')\n",
    "        elif quo2>5 and quo2<9:\n",
    "            result.append('D')\n",
    "            result.append('C'*(quo2-5))\n",
    "        elif quo2<4:\n",
    "            result.append('C'*quo2)\n",
    "            \n",
    "#         print(quo2)\n",
    "#         print(rem2)\n",
    "#         print(result)\n",
    "        return recurse(rem2, length, result)\n",
    "    elif length ==2:\n",
    "        quo1 = num//10\n",
    "        rem1 = num % 10\n",
    "        if quo1==4:\n",
    "            result.append('XL')\n",
    "        elif quo1==9:\n",
    "            result.append('XC')\n",
    "        elif quo1==5:\n",
    "            result.append('L')\n",
    "        elif quo1>5 and quo1<9:\n",
    "            result.append('L')\n",
    "            result.append('X'*(quo1-5))\n",
    "        elif quo1<4:\n",
    "            result.append('X'*quo1)\n",
    "#         print(quo1)\n",
    "#         print(rem1)\n",
    "#         print(result)\n",
    "        return recurse(rem1, length, result)\n",
    "    elif length ==1:\n",
    "        if num==4:\n",
    "            result.append('IV')\n",
    "        elif num==9:\n",
    "            result.append('IX')\n",
    "        elif num==5:\n",
    "            result.append('V')\n",
    "        elif num>5 and num<9:\n",
    "            result.append('V')\n",
    "            result.append('I'*(num-5))\n",
    "        elif num<4:\n",
    "            result.append('I'*num)\n",
    "        return (result)\n",
    "    \n",
    "        "
   ]
  },
  {
   "cell_type": "code",
   "execution_count": 52,
   "metadata": {},
   "outputs": [
    {
     "name": "stdout",
     "output_type": "stream",
     "text": [
      "[3, 4, 9, 9]\n",
      "3\n",
      "499\n",
      "['MMM']\n",
      "[4, 9, 9]\n",
      "4\n",
      "99\n",
      "['MMM', 'CD']\n",
      "[9, 9]\n",
      "9\n",
      "9\n",
      "['MMM', 'CD', 'XC']\n",
      "[9]\n",
      "MMMCDXCIX\n"
     ]
    }
   ],
   "source": [
    "num = 3499\n",
    "print(intToRoman(num))"
   ]
  },
  {
   "cell_type": "code",
   "execution_count": 3,
   "metadata": {},
   "outputs": [
    {
     "name": "stdout",
     "output_type": "stream",
     "text": [
      "['4', '5', '8', '9']\n"
     ]
    }
   ],
   "source": [
    " "
   ]
  },
  {
   "cell_type": "code",
   "execution_count": null,
   "metadata": {},
   "outputs": [],
   "source": []
  }
 ],
 "metadata": {
  "kernelspec": {
   "display_name": "Python 3",
   "language": "python",
   "name": "python3"
  },
  "language_info": {
   "codemirror_mode": {
    "name": "ipython",
    "version": 3
   },
   "file_extension": ".py",
   "mimetype": "text/x-python",
   "name": "python",
   "nbconvert_exporter": "python",
   "pygments_lexer": "ipython3",
   "version": "3.8.5"
  }
 },
 "nbformat": 4,
 "nbformat_minor": 4
}
