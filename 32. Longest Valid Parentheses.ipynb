{
 "cells": [
  {
   "cell_type": "code",
   "execution_count": 17,
   "metadata": {},
   "outputs": [],
   "source": [
    "def longestValidParentheses(s):\n",
    "    hash_match = {'(':')', '[':']','{':'}'}\n",
    "    stack = []\n",
    "    count=0\n",
    "    max_length=0\n",
    "    for char in s:\n",
    "#         print(f'Current Character : {char}')\n",
    "#         print(f'Current Stack : {stack}')\n",
    "#         print(f'Current count : {count}')\n",
    "#         print(f'Current Max length  : {max_length}')\n",
    "        if char=='{' or  char=='[' or  char=='(' :\n",
    "            stack.append(char)\n",
    "        if char=='}' or  char==']' or  char==')' :\n",
    "            if len(stack)==0 or hash_match[stack[-1]]!=char:\n",
    "                stack=[]\n",
    "                if max_length<count:\n",
    "                    max_length=count\n",
    "                    count=0\n",
    "                continue\n",
    "            elif hash_match[stack[-1]]==char:\n",
    "                stack.pop()\n",
    "                count+=2\n",
    "#     print(f'Current count : {count}')\n",
    "#     print(f'Current Max length  : {max_length}')\n",
    "    if count>max_length:\n",
    "            max_length=count\n",
    "    return max_length\n",
    "    "
   ]
  },
  {
   "cell_type": "code",
   "execution_count": 19,
   "metadata": {},
   "outputs": [
    {
     "name": "stdout",
     "output_type": "stream",
     "text": [
      "Current Character : (\n",
      "Current Stack : []\n",
      "Current count : 0\n",
      "Current Max length  : 0\n",
      "Current Character : )\n",
      "Current Stack : ['(']\n",
      "Current count : 0\n",
      "Current Max length  : 0\n",
      "Current Character : (\n",
      "Current Stack : []\n",
      "Current count : 2\n",
      "Current Max length  : 0\n",
      "Current Character : (\n",
      "Current Stack : ['(']\n",
      "Current count : 2\n",
      "Current Max length  : 0\n",
      "Current Character : )\n",
      "Current Stack : ['(', '(']\n",
      "Current count : 2\n",
      "Current Max length  : 0\n",
      "Current count : 4\n",
      "Current Max length  : 0\n",
      "4\n"
     ]
    }
   ],
   "source": [
    "s = \"()(()\"\n",
    "\n",
    "print(longestValidParentheses(s))"
   ]
  },
  {
   "cell_type": "code",
   "execution_count": null,
   "metadata": {},
   "outputs": [],
   "source": []
  }
 ],
 "metadata": {
  "kernelspec": {
   "display_name": "Python 3",
   "language": "python",
   "name": "python3"
  },
  "language_info": {
   "codemirror_mode": {
    "name": "ipython",
    "version": 3
   },
   "file_extension": ".py",
   "mimetype": "text/x-python",
   "name": "python",
   "nbconvert_exporter": "python",
   "pygments_lexer": "ipython3",
   "version": "3.8.5"
  }
 },
 "nbformat": 4,
 "nbformat_minor": 4
}
