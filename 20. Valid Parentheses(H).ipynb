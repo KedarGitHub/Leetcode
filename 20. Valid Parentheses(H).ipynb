{
 "cells": [
  {
   "cell_type": "code",
   "execution_count": 48,
   "metadata": {},
   "outputs": [],
   "source": [
    "def isValid(s):\n",
    "#         if(len(s)%2!=0) or s.count('(')!=s.count(')') or s.count('[')!=s.count(']') or s.count('{')!=s.count('}'):\n",
    "#             print('case 1')\n",
    "#             return False\n",
    "#         elif len(s)==2 and s[0]+s[1]=='()' or s[0]+s[1]=='[]' or s[0]+s[1]=='{}':\n",
    "#             print('case 2')\n",
    "#             return True\n",
    "#         else:\n",
    "#             print('case 3')\n",
    "#             if s[0]+s[len(s)-1]=='()' or s[0]+s[len(s)-1]=='[]' or s[0]+s[len(s)-1]=='{}':\n",
    "#                 print('case 3.1')\n",
    "#                 occur_paran, occur_flower, occur_square = 0,0,0\n",
    "#                 paran, flower, square = 0,0,0\n",
    "#                 occur_paran = s.count('(')\n",
    "#                 occur_flower = s.count('{')\n",
    "#                 occur_square = s.count('[')\n",
    "#                 for i in range(len(s)):\n",
    "#                     if s[i]=='(' or s[i]==')':\n",
    "#                         paran+=i\n",
    "#                     if s[i]=='[' or s[i]==']':\n",
    "#                         square+=i\n",
    "#                     if s[i]=='{' or s[i]=='}':\n",
    "#                         flower+=i\n",
    "#                 print(occur_paran, occur_flower, occur_square, paran, flower, square)\n",
    "#                 if (occur_paran%2==paran%2) and  (occur_flower%2==flower%2) and (occur_square%2==square%2):\n",
    "#                     return True\n",
    "#                 else:\n",
    "#                     return False\n",
    "                \n",
    "#             else:\n",
    "#                 print('case 3.2')\n",
    "#                 for i in range(len(s)):\n",
    "#                     if i%2!=0:\n",
    "#                         continue\n",
    "#                     elif i%2==0 and (s[i]+s[i+1]=='()' or s[i]+s[i+1]=='[]' or s[i]+s[i+1]=='{}'):\n",
    "#                         continue\n",
    "#                     else:\n",
    "#                         return False\n",
    "#                 return True\n",
    "\n",
    "#  Use STACK LIFO concept\n",
    "            stack = list()\n",
    "            for i in s:\n",
    "                if i=='{' or i=='[' or i=='(':\n",
    "                    stack.append(i)\n",
    "                elif (i=='}' and len(stack)!=0 and stack[len(stack)-1]=='{') or (i==')' and len(stack)!=0 and stack[len(stack)-1]=='(') or (i==']' and len(stack)!=0 and stack[len(stack)-1]=='['):\n",
    "                    stack.pop()\n",
    "                else:\n",
    "                    return False\n",
    "            if len(stack)!=0:\n",
    "                return False\n",
    "            else:\n",
    "                return True\n",
    "        \n",
    "            \n",
    "            \n",
    "            \n",
    "            \n",
    "    \n",
    "         "
   ]
  },
  {
   "cell_type": "code",
   "execution_count": 49,
   "metadata": {},
   "outputs": [
    {
     "name": "stdout",
     "output_type": "stream",
     "text": [
      "[]\n",
      "['(']\n",
      "['(', '{']\n",
      "['(', '{', '{']\n",
      "['(', '{', '{', '{']\n",
      "['(', '{', '{', '{', '{']\n",
      "False\n"
     ]
    }
   ],
   "source": [
    "s =\"({{{{}}}))\"\n",
    "print(isValid(s))"
   ]
  },
  {
   "cell_type": "code",
   "execution_count": null,
   "metadata": {},
   "outputs": [],
   "source": []
  }
 ],
 "metadata": {
  "kernelspec": {
   "display_name": "Python 3",
   "language": "python",
   "name": "python3"
  },
  "language_info": {
   "codemirror_mode": {
    "name": "ipython",
    "version": 3
   },
   "file_extension": ".py",
   "mimetype": "text/x-python",
   "name": "python",
   "nbconvert_exporter": "python",
   "pygments_lexer": "ipython3",
   "version": "3.8.5"
  }
 },
 "nbformat": 4,
 "nbformat_minor": 4
}
