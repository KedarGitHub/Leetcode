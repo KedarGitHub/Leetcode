{
 "cells": [
  {
   "cell_type": "code",
   "execution_count": 14,
   "metadata": {},
   "outputs": [],
   "source": [
    "def moveZeroes(nums):\n",
    "    length = len(nums)\n",
    "    if length==0 or length==1:\n",
    "        return nums\n",
    "    count_zeros = nums.count(0)\n",
    "    if count_zeros==0:\n",
    "        return nums\n",
    "    i=0\n",
    "    while True:\n",
    "        if i==length-1:\n",
    "            i=0\n",
    "        if nums[i]==0:\n",
    "            temp=nums[i]\n",
    "            nums[i]=nums[i+1]\n",
    "            nums[i+1]=temp\n",
    "        if nums[(length-count_zeros):].count(0)==count_zeros:\n",
    "            break\n",
    "        i+=1\n",
    "    return (nums)"
   ]
  },
  {
   "cell_type": "code",
   "execution_count": 15,
   "metadata": {},
   "outputs": [
    {
     "name": "stdout",
     "output_type": "stream",
     "text": [
      "[1, 3, 12, 0, 0]\n"
     ]
    }
   ],
   "source": [
    "nums = [0,1,0,3,12]\n",
    "print(moveZeroes(nums))"
   ]
  },
  {
   "cell_type": "code",
   "execution_count": null,
   "metadata": {},
   "outputs": [],
   "source": []
  }
 ],
 "metadata": {
  "kernelspec": {
   "display_name": "Python 3",
   "language": "python",
   "name": "python3"
  },
  "language_info": {
   "codemirror_mode": {
    "name": "ipython",
    "version": 3
   },
   "file_extension": ".py",
   "mimetype": "text/x-python",
   "name": "python",
   "nbconvert_exporter": "python",
   "pygments_lexer": "ipython3",
   "version": "3.8.5"
  }
 },
 "nbformat": 4,
 "nbformat_minor": 4
}
