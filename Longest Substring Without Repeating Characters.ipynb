{
 "cells": [
  {
   "cell_type": "code",
   "execution_count": 47,
   "metadata": {},
   "outputs": [
    {
     "name": "stdout",
     "output_type": "stream",
     "text": [
      "2\n"
     ]
    }
   ],
   "source": [
    "def lengthOfLongestSubstring(s):\n",
    "        output = list()\n",
    "        counter,max_value,flag=0,0,0;\n",
    "\n",
    "#     if s.isspace():   # checks if python string has space or not \n",
    "#         return len(s)\n",
    "#     else:\n",
    "\n",
    "        if len(s)==1:\n",
    "            return len(s)\n",
    "        else:\n",
    "            for i in s:\n",
    "    #             print('Hey1')\n",
    "                if i not in output:\n",
    "    #                 print('Hey2')\n",
    "                    if i.isspace() and flag==0:\n",
    "                        flag=1\n",
    "                        counter+=1\n",
    "                    elif i.isspace() and flag==1:             \n",
    "                        output.clear()\n",
    "                        if max_value < counter:\n",
    "    #                         print('Hey4')\n",
    "                            max_value=counter\n",
    "                        counter=1\n",
    "                    else:\n",
    "                        output.append(i)\n",
    "                        counter+=1\n",
    "                elif i in output:\n",
    "    #                 print('Hey3')\n",
    "                    output.clear()\n",
    "                    output.append(i)\n",
    "                    if max_value < counter:\n",
    "    #                     print('Hey4')\n",
    "                        max_value=counter\n",
    "                    counter=1\n",
    "            if max_value < counter:\n",
    "    #                   print('Hey4')\n",
    "                        max_value=counter \n",
    "            return max_value\n",
    "\n",
    "print(lengthOfLongestSubstring(\"dvdf\"))\n",
    "            "
   ]
  },
  {
   "cell_type": "code",
   "execution_count": 61,
   "metadata": {},
   "outputs": [
    {
     "name": "stdout",
     "output_type": "stream",
     "text": [
      "3\n"
     ]
    }
   ],
   "source": [
    "def lengthOfLongestSubstring(s):\n",
    "        max_value=0;\n",
    "\n",
    "#     if s.isspace():   # checks if python string has space or not \n",
    "#         return len(s)\n",
    "#     else:\n",
    "\n",
    "        for i in range(len(s)):\n",
    "            count=0\n",
    "            for j in range(len(s)):\n",
    "                if j==i:\n",
    "                    count+=1\n",
    "                elif j>i:\n",
    "                    if s[i]==s[j]:\n",
    "                        if max_value< count:\n",
    "                            max_value= count\n",
    "                            count=0\n",
    "                            break\n",
    "                    count+=1\n",
    "            if max_value< count:\n",
    "                max_value = count\n",
    "        if max_value< count: \n",
    "            return count\n",
    "        elif max_value> count: \n",
    "            return max_value\n",
    "\n",
    "print(lengthOfLongestSubstring(\"dvdf\"))\n",
    "            "
   ]
  },
  {
   "cell_type": "code",
   "execution_count": null,
   "metadata": {},
   "outputs": [],
   "source": []
  }
 ],
 "metadata": {
  "kernelspec": {
   "display_name": "Python 3",
   "language": "python",
   "name": "python3"
  },
  "language_info": {
   "codemirror_mode": {
    "name": "ipython",
    "version": 3
   },
   "file_extension": ".py",
   "mimetype": "text/x-python",
   "name": "python",
   "nbconvert_exporter": "python",
   "pygments_lexer": "ipython3",
   "version": "3.8.5"
  }
 },
 "nbformat": 4,
 "nbformat_minor": 4
}
