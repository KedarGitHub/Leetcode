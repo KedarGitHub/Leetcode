{
 "cells": [
  {
   "cell_type": "markdown",
   "metadata": {},
   "source": [
    "This below code will work if the elements are not the maximum jump but the only jump which you can take"
   ]
  },
  {
   "cell_type": "code",
   "execution_count": 10,
   "metadata": {},
   "outputs": [],
   "source": [
    "def canJump_old(nums):\n",
    "    position = 0\n",
    "    previous = 0\n",
    "    length = len(nums)\n",
    "    while position < length:\n",
    "        previous = position\n",
    "        position_value= nums[position]\n",
    "        position = position + position_value\n",
    "        if position == previous:\n",
    "            return False\n",
    "        if position == length-1:\n",
    "            return True\n",
    "    return False\n",
    "    "
   ]
  },
  {
   "cell_type": "code",
   "execution_count": 13,
   "metadata": {},
   "outputs": [],
   "source": [
    "def canJump(nums):\n",
    "    n = len(nums)\n",
    "    print(f'This is the length : {n}')\n",
    "    max_reachable = 0\n",
    "\n",
    "    for i in range(n):\n",
    "        # If the current position is beyond the maximum reachable position, return False\n",
    "        \n",
    "        print(f'This is the value of i : {i}')\n",
    "        if i > max_reachable:\n",
    "            return False\n",
    "        \n",
    "        # Update the farthest position reachable from the current position\n",
    "        print(f'This is the current value of maximum_reachable : {max_reachable}')\n",
    "        max_reachable = max(max_reachable, i + nums[i])\n",
    "        print(f'This is the current value of maximum_reachable : {max_reachable}')\n",
    "\n",
    "\n",
    "        # If the farthest position already exceeds or reaches the last index, return True\n",
    "        if max_reachable >= n - 1:\n",
    "            return True\n",
    "\n",
    "    return False"
   ]
  },
  {
   "cell_type": "code",
   "execution_count": 14,
   "metadata": {},
   "outputs": [
    {
     "name": "stdout",
     "output_type": "stream",
     "text": [
      "This is the length : 8\n",
      "This is the value of i : 0\n",
      "This is the current value of maximum_reachable : 0\n",
      "This is the current value of maximum_reachable : 2\n",
      "This is the value of i : 1\n",
      "This is the current value of maximum_reachable : 2\n",
      "This is the current value of maximum_reachable : 4\n",
      "This is the value of i : 2\n",
      "This is the current value of maximum_reachable : 4\n",
      "This is the current value of maximum_reachable : 4\n",
      "This is the value of i : 3\n",
      "This is the current value of maximum_reachable : 4\n",
      "This is the current value of maximum_reachable : 4\n",
      "This is the value of i : 4\n",
      "This is the current value of maximum_reachable : 4\n",
      "This is the current value of maximum_reachable : 7\n",
      "True\n"
     ]
    }
   ],
   "source": [
    "nums = [2,3,1,1,3,9,9,9]\n",
    "print(canJump(nums))"
   ]
  },
  {
   "cell_type": "code",
   "execution_count": null,
   "metadata": {},
   "outputs": [],
   "source": []
  }
 ],
 "metadata": {
  "kernelspec": {
   "display_name": "Python 3",
   "language": "python",
   "name": "python3"
  },
  "language_info": {
   "codemirror_mode": {
    "name": "ipython",
    "version": 3
   },
   "file_extension": ".py",
   "mimetype": "text/x-python",
   "name": "python",
   "nbconvert_exporter": "python",
   "pygments_lexer": "ipython3",
   "version": "3.8.5"
  }
 },
 "nbformat": 4,
 "nbformat_minor": 4
}
