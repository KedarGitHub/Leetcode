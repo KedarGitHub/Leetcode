{
 "cells": [
  {
   "cell_type": "code",
   "execution_count": 56,
   "metadata": {},
   "outputs": [],
   "source": [
    "def palindrome_check(s):\n",
    "#     print(f'This is the current string which will be checked for the palindrome after the ends are found to be same {s}')\n",
    "    length = len(s)\n",
    "    if length==1 or length==0:\n",
    "#         print('Length is 1')\n",
    "        return True\n",
    "    elif length>1:\n",
    "        if s[0]==s[length-1]:\n",
    "#             print(f's[0] is {s[0]}')\n",
    "#             print(f's[length-1] is {s[length-1]}')\n",
    "            boolean_value= palindrome_check(s[1:length-1])\n",
    "            return boolean_value\n",
    "        \n",
    "def longestPalindrome(s):\n",
    "    max_string = \"\"\n",
    "    length1= len(s)\n",
    "#     for i in range(length1):\n",
    "    for i, val in enumerate(s):\n",
    "#             print(max_string)\n",
    "            j = length1-1\n",
    "            while j>i:\n",
    "                if val==s[j]:\n",
    "                    x=palindrome_check(s[i:j+1])\n",
    "#                     print(x)\n",
    "#                     print(max_string)\n",
    "#                     print(len(max_string))\n",
    "                    if x and len(max_string)< len(s[i:j+1]):\n",
    "#                         print(s[i:j+1])\n",
    "                        max_string = s[i:j+1]\n",
    "#                         print(max_string)\n",
    "                j-=1\n",
    "    if len(max_string)==0:\n",
    "            return s[0]\n",
    "    else:\n",
    "            return max_string            "
   ]
  },
  {
   "cell_type": "code",
   "execution_count": 57,
   "metadata": {},
   "outputs": [
    {
     "name": "stdout",
     "output_type": "stream",
     "text": [
      "ramar\n"
     ]
    }
   ],
   "source": [
    "s =\"kedaramarnayak\"\n",
    "# s = \"abababababababababababababababababababababababababababababababababababababababababababababababababababababababababababababababababababababababababababababababababababababababababababababababababababababababababababababababababababababababababababababababababababababababababababababababababababababababababababababababababababababababababababababababababababababababababababababababababababababababababababababababababababababababababababababababababababababababababababababababababababababababababababababababababababababababababababababababababababababababababababababababababababababababababababababababababababababababababababababababababababababababababababababababababababababababababababababababababababababababababababababababababababababababababababababababababababababababababababababababababababababababababababababababababababababababababababababababababababababababababababababababababababababababababababababababababababababababababababababababababababababababababababababababababababa\"\n",
    "# s= 'CABABAC'\n",
    "print(longestPalindrome(s))"
   ]
  },
  {
   "cell_type": "markdown",
   "metadata": {},
   "source": [
    "**Working Code**"
   ]
  },
  {
   "cell_type": "code",
   "execution_count": 64,
   "metadata": {},
   "outputs": [],
   "source": [
    "def longestPalindrome(s) -> str:\n",
    "        length = len(s)\n",
    "        if length < 2:\n",
    "            return s\n",
    "        \n",
    "        # Create a table to store palindrome information\n",
    "        table = [[False] * length for _ in range(length)]\n",
    "        print(table)\n",
    "        print()\n",
    "        print()\n",
    "        # All substrings of length 1 are palindromes\n",
    "        for i in range(length):\n",
    "            table[i][i] = True\n",
    "        print(table)\n",
    "        print()\n",
    "        print()\n",
    "        max_len = 1\n",
    "        start = 0\n",
    "        \n",
    "        # Check substrings of length 2\n",
    "        for i in range(length - 1):\n",
    "            if s[i] == s[i+1]:\n",
    "                table[i][i+1] = True\n",
    "                start = i\n",
    "                max_len = 2\n",
    "        print(table)\n",
    "        print()\n",
    "        print()\n",
    "        \n",
    "        # Check substrings of length > 2\n",
    "        for substr_len in range(3, length+1):\n",
    "            for i in range(length - substr_len + 1):\n",
    "                j = i + substr_len - 1\n",
    "                if s[i] == s[j] and table[i+1][j-1]:\n",
    "                    table[i][j] = True\n",
    "                    start = i\n",
    "                    max_len = substr_len\n",
    "        \n",
    "        return s[start:start+max_len]"
   ]
  },
  {
   "cell_type": "code",
   "execution_count": 65,
   "metadata": {
    "scrolled": true
   },
   "outputs": [
    {
     "name": "stdout",
     "output_type": "stream",
     "text": [
      "[[False, False, False, False, False, False, False, False, False, False, False, False, False, False], [False, False, False, False, False, False, False, False, False, False, False, False, False, False], [False, False, False, False, False, False, False, False, False, False, False, False, False, False], [False, False, False, False, False, False, False, False, False, False, False, False, False, False], [False, False, False, False, False, False, False, False, False, False, False, False, False, False], [False, False, False, False, False, False, False, False, False, False, False, False, False, False], [False, False, False, False, False, False, False, False, False, False, False, False, False, False], [False, False, False, False, False, False, False, False, False, False, False, False, False, False], [False, False, False, False, False, False, False, False, False, False, False, False, False, False], [False, False, False, False, False, False, False, False, False, False, False, False, False, False], [False, False, False, False, False, False, False, False, False, False, False, False, False, False], [False, False, False, False, False, False, False, False, False, False, False, False, False, False], [False, False, False, False, False, False, False, False, False, False, False, False, False, False], [False, False, False, False, False, False, False, False, False, False, False, False, False, False]]\n",
      "\n",
      "\n",
      "[[True, False, False, False, False, False, False, False, False, False, False, False, False, False], [False, True, False, False, False, False, False, False, False, False, False, False, False, False], [False, False, True, False, False, False, False, False, False, False, False, False, False, False], [False, False, False, True, False, False, False, False, False, False, False, False, False, False], [False, False, False, False, True, False, False, False, False, False, False, False, False, False], [False, False, False, False, False, True, False, False, False, False, False, False, False, False], [False, False, False, False, False, False, True, False, False, False, False, False, False, False], [False, False, False, False, False, False, False, True, False, False, False, False, False, False], [False, False, False, False, False, False, False, False, True, False, False, False, False, False], [False, False, False, False, False, False, False, False, False, True, False, False, False, False], [False, False, False, False, False, False, False, False, False, False, True, False, False, False], [False, False, False, False, False, False, False, False, False, False, False, True, False, False], [False, False, False, False, False, False, False, False, False, False, False, False, True, False], [False, False, False, False, False, False, False, False, False, False, False, False, False, True]]\n",
      "\n",
      "\n",
      "[[True, False, False, False, False, False, False, False, False, False, False, False, False, False], [False, True, False, False, False, False, False, False, False, False, False, False, False, False], [False, False, True, False, False, False, False, False, False, False, False, False, False, False], [False, False, False, True, False, False, False, False, False, False, False, False, False, False], [False, False, False, False, True, False, False, False, False, False, False, False, False, False], [False, False, False, False, False, True, False, False, False, False, False, False, False, False], [False, False, False, False, False, False, True, False, False, False, False, False, False, False], [False, False, False, False, False, False, False, True, False, False, False, False, False, False], [False, False, False, False, False, False, False, False, True, False, False, False, False, False], [False, False, False, False, False, False, False, False, False, True, False, False, False, False], [False, False, False, False, False, False, False, False, False, False, True, False, False, False], [False, False, False, False, False, False, False, False, False, False, False, True, False, False], [False, False, False, False, False, False, False, False, False, False, False, False, True, False], [False, False, False, False, False, False, False, False, False, False, False, False, False, True]]\n",
      "\n",
      "\n",
      "ramar\n"
     ]
    }
   ],
   "source": [
    "s =\"kedaramarnayak\"\n",
    "# s = \"abababababababababababababababababababababababababababababababababababababababababababababababababababababababababababababababababababababababababababababababababababababababababababababababababababababababababababababababababababababababababababababababababababababababababababababababababababababababababababababababababababababababababababababababababababababababababababababababababababababababababababababababababababababababababababababababababababababababababababababababababababababababababababababababababababababababababababababababababababababababababababababababababababababababababababababababababababababababababababababababababababababababababababababababababababababababababababababababababababababababababababababababababababababababababababababababababababababababababababababababababababababababababababababababababababababababababababababababababababababababababababababababababababababababababababababababababababababababababababababababababababababababababababababababababababa\"\n",
    "# s= 'CABABAC'\n",
    "print(longestPalindrome(s))"
   ]
  },
  {
   "cell_type": "code",
   "execution_count": null,
   "metadata": {},
   "outputs": [],
   "source": []
  }
 ],
 "metadata": {
  "kernelspec": {
   "display_name": "Python 3",
   "language": "python",
   "name": "python3"
  },
  "language_info": {
   "codemirror_mode": {
    "name": "ipython",
    "version": 3
   },
   "file_extension": ".py",
   "mimetype": "text/x-python",
   "name": "python",
   "nbconvert_exporter": "python",
   "pygments_lexer": "ipython3",
   "version": "3.8.5"
  }
 },
 "nbformat": 4,
 "nbformat_minor": 4
}
