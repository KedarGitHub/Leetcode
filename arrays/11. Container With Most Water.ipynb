{
 "cells": [
  {
   "cell_type": "code",
   "execution_count": 40,
   "metadata": {},
   "outputs": [],
   "source": [
    "def maxArea(height):\n",
    "        maximum = 0\n",
    "        i=0\n",
    "        j=len(height)-1\n",
    "        while i<j:  \n",
    "            if (height[j]<height[i]):\n",
    "                maximum = max(maximum, (height[j])*(j-i))\n",
    "                j = j-1\n",
    "            elif (height[j]>=height[i]):\n",
    "                maximum = max(maximum, (height[i])*(j-i))\n",
    "                i=i+1\n",
    "        return maximum"
   ]
  },
  {
   "cell_type": "code",
   "execution_count": 25,
   "metadata": {},
   "outputs": [
    {
     "name": "stdout",
     "output_type": "stream",
     "text": [
      "49\n"
     ]
    }
   ],
   "source": [
    "height =[1,8,6,2,5,4,8,3,7]\n",
    "print(maxArea1(height))"
   ]
  },
  {
   "cell_type": "code",
   "execution_count": 24,
   "metadata": {},
   "outputs": [],
   "source": [
    "def maxArea1(height):\n",
    "        maximum = 0\n",
    "        for i in range(len(height)):\n",
    "            for j in range(i+1,len(height)):\n",
    "                wt = j-i\n",
    "                # print(f'width is {wt}')\n",
    "                ht = min(height[j],height[i])\n",
    "                # print(f'height is {ht}')\n",
    "                area= wt*ht\n",
    "                # print(f'Area is {area}')\n",
    "                if maximum < area:\n",
    "                    maximum = area\n",
    "        return maximum"
   ]
  },
  {
   "cell_type": "code",
   "execution_count": 41,
   "metadata": {},
   "outputs": [
    {
     "name": "stdout",
     "output_type": "stream",
     "text": [
      "49\n"
     ]
    }
   ],
   "source": [
    "height =[1,8,6,2,5,4,8,3,7]\n",
    "print(maxArea(height))"
   ]
  },
  {
   "cell_type": "code",
   "execution_count": null,
   "metadata": {},
   "outputs": [],
   "source": []
  }
 ],
 "metadata": {
  "kernelspec": {
   "display_name": "Python 3",
   "language": "python",
   "name": "python3"
  },
  "language_info": {
   "codemirror_mode": {
    "name": "ipython",
    "version": 3
   },
   "file_extension": ".py",
   "mimetype": "text/x-python",
   "name": "python",
   "nbconvert_exporter": "python",
   "pygments_lexer": "ipython3",
   "version": "3.8.5"
  }
 },
 "nbformat": 4,
 "nbformat_minor": 4
}
